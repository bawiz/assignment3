{
 "cells": [
  {
   "cell_type": "code",
   "execution_count": 2,
   "metadata": {
    "collapsed": false
   },
   "outputs": [],
   "source": [
    "import numpy as np\n",
    "import pandas as pd\n",
    "from rdkit import Chem\n",
    "from rdkit.Chem import Descriptors"
   ]
  },
  {
   "cell_type": "code",
   "execution_count": 3,
   "metadata": {
    "collapsed": false
   },
   "outputs": [],
   "source": [
    "data = pd.read_csv(\"data.csv\",low_memory=False);"
   ]
  },
  {
   "cell_type": "code",
   "execution_count": 4,
   "metadata": {
    "collapsed": false
   },
   "outputs": [],
   "source": [
    "descriptors = pd.read_csv(\"descriptors.csv\");"
   ]
  },
  {
   "cell_type": "markdown",
   "metadata": {},
   "source": [
    "# Import smiles data from txt file\n",
    "\n",
    "The simplified molecular-input line-entry system (SMILES) is a specification in form of a line notation for describing the structure of chemical species using short ASCII strings. SMILES strings can be imported by most molecule editors for conversion back into two-dimensional drawings or three-dimensional models of the molecules. The smiles data file shows the molecule ids and their respective structure. It was downloaded here:\n",
    "https://pubchem.ncbi.nlm.nih.gov/bioassay/624202#section=Top\n",
    "\n",
    "Click on the \"Download\" tab -> select \"tested substances\" -> click \"Download service\" -> Chose \"Smiles\" as format and download. "
   ]
  },
  {
   "cell_type": "code",
   "execution_count": 5,
   "metadata": {
    "collapsed": false
   },
   "outputs": [],
   "source": [
    "smilesData = pd.read_csv(\"smilesData.txt\",sep=\"\\t\", header=None);"
   ]
  },
  {
   "cell_type": "code",
   "execution_count": 6,
   "metadata": {
    "collapsed": true
   },
   "outputs": [],
   "source": [
    "smilesData.columns = ['molSID','chemStruc']"
   ]
  },
  {
   "cell_type": "code",
   "execution_count": 7,
   "metadata": {
    "collapsed": false
   },
   "outputs": [],
   "source": [
    "descList = [i[0] for i in Descriptors._descList]"
   ]
  },
  {
   "cell_type": "code",
   "execution_count": 8,
   "metadata": {
    "collapsed": false
   },
   "outputs": [],
   "source": [
    "data = data.loc[5:,['PUBCHEM_SID','PUBCHEM_ACTIVITY_SCORE']];"
   ]
  },
  {
   "cell_type": "code",
   "execution_count": 9,
   "metadata": {
    "collapsed": false
   },
   "outputs": [
    {
     "name": "stdout",
     "output_type": "stream",
     "text": [
      "Number of inactives is  364035\n",
      "Number of actives is  13515\n"
     ]
    }
   ],
   "source": [
    "inactives= data.loc[data.PUBCHEM_ACTIVITY_SCORE==0]\n",
    "actives= data.loc[data.PUBCHEM_ACTIVITY_SCORE!=0]\n",
    "print(\"Number of inactives is \",len(inactives))\n",
    "print(\"Number of actives is \", len(actives))"
   ]
  },
  {
   "cell_type": "code",
   "execution_count": 10,
   "metadata": {
    "collapsed": false
   },
   "outputs": [],
   "source": [
    "selectedInactives = inactives.sample(350)\n",
    "selectedActives = actives.sample(700)"
   ]
  },
  {
   "cell_type": "code",
   "execution_count": 11,
   "metadata": {
    "collapsed": false
   },
   "outputs": [],
   "source": [
    "smallDataset = pd.concat([selectedInactives,selectedActives])"
   ]
  },
  {
   "cell_type": "code",
   "execution_count": 12,
   "metadata": {
    "collapsed": false
   },
   "outputs": [
    {
     "data": {
      "text/plain": [
       "array([ 24827535.,   4247012.,  24785101., ...,    858176.,   4262957.,\n",
       "        57267033.])"
      ]
     },
     "execution_count": 12,
     "metadata": {},
     "output_type": "execute_result"
    }
   ],
   "source": [
    "smallDataset.PUBCHEM_SID.values"
   ]
  },
  {
   "cell_type": "code",
   "execution_count": 13,
   "metadata": {
    "collapsed": false
   },
   "outputs": [
    {
     "name": "stdout",
     "output_type": "stream",
     "text": [
      "Shape of small dataset is (1050, 2)\n"
     ]
    }
   ],
   "source": [
    "print(\"Shape of small dataset is\",smallDataset.shape)"
   ]
  },
  {
   "cell_type": "code",
   "execution_count": 14,
   "metadata": {
    "collapsed": true
   },
   "outputs": [],
   "source": [
    "# Convert floating point values to integers. \n",
    "smallDataset['PUBCHEM_SID'] = smallDataset['PUBCHEM_SID'].astype(np.int64)\n",
    "smallDataset['PUBCHEM_ACTIVITY_SCORE'] = smallDataset['PUBCHEM_ACTIVITY_SCORE'].astype(np.int64)"
   ]
  },
  {
   "cell_type": "code",
   "execution_count": 15,
   "metadata": {
    "collapsed": false
   },
   "outputs": [
    {
     "data": {
      "text/html": [
       "<div>\n",
       "<style scoped>\n",
       "    .dataframe tbody tr th:only-of-type {\n",
       "        vertical-align: middle;\n",
       "    }\n",
       "\n",
       "    .dataframe tbody tr th {\n",
       "        vertical-align: top;\n",
       "    }\n",
       "\n",
       "    .dataframe thead th {\n",
       "        text-align: right;\n",
       "    }\n",
       "</style>\n",
       "<table border=\"1\" class=\"dataframe\">\n",
       "  <thead>\n",
       "    <tr style=\"text-align: right;\">\n",
       "      <th></th>\n",
       "      <th>PUBCHEM_SID</th>\n",
       "      <th>PUBCHEM_ACTIVITY_SCORE</th>\n",
       "    </tr>\n",
       "  </thead>\n",
       "  <tbody>\n",
       "    <tr>\n",
       "      <th>190548</th>\n",
       "      <td>24827535</td>\n",
       "      <td>0</td>\n",
       "    </tr>\n",
       "    <tr>\n",
       "      <th>29688</th>\n",
       "      <td>4247012</td>\n",
       "      <td>0</td>\n",
       "    </tr>\n",
       "    <tr>\n",
       "      <th>149222</th>\n",
       "      <td>24785101</td>\n",
       "      <td>0</td>\n",
       "    </tr>\n",
       "    <tr>\n",
       "      <th>128777</th>\n",
       "      <td>22414026</td>\n",
       "      <td>0</td>\n",
       "    </tr>\n",
       "    <tr>\n",
       "      <th>110013</th>\n",
       "      <td>17511624</td>\n",
       "      <td>0</td>\n",
       "    </tr>\n",
       "  </tbody>\n",
       "</table>\n",
       "</div>"
      ],
      "text/plain": [
       "        PUBCHEM_SID  PUBCHEM_ACTIVITY_SCORE\n",
       "190548     24827535                       0\n",
       "29688       4247012                       0\n",
       "149222     24785101                       0\n",
       "128777     22414026                       0\n",
       "110013     17511624                       0"
      ]
     },
     "execution_count": 15,
     "metadata": {},
     "output_type": "execute_result"
    }
   ],
   "source": [
    "smallDataset.head()"
   ]
  },
  {
   "cell_type": "markdown",
   "metadata": {},
   "source": [
    "# Method for calculating descriptors\n",
    "\n",
    "Input the descriptors list and a smiles data tuple where first column contains the molecule substance IDs and the second column contains the chemical structure. E.g.\n",
    "124899260\t\"C1=CC=C(C=C1)CCCCOC2=CC=C(C=C2)CC(=O)NO\"\n",
    "\n",
    "The method outputs a matrix where each row contains the molSID and its pertaining descriptors. "
   ]
  },
  {
   "cell_type": "code",
   "execution_count": 16,
   "metadata": {
    "collapsed": false
   },
   "outputs": [],
   "source": [
    "smallSmilesData = smilesData.loc[smilesData.molSID.isin(smallDataset.PUBCHEM_SID.values)]"
   ]
  },
  {
   "cell_type": "code",
   "execution_count": 17,
   "metadata": {
    "collapsed": false
   },
   "outputs": [
    {
     "data": {
      "text/plain": [
       "(1050, 2)"
      ]
     },
     "execution_count": 17,
     "metadata": {},
     "output_type": "execute_result"
    }
   ],
   "source": [
    "smallSmilesData.shape"
   ]
  },
  {
   "cell_type": "code",
   "execution_count": 18,
   "metadata": {
    "collapsed": false
   },
   "outputs": [
    {
     "name": "stdout",
     "output_type": "stream",
     "text": [
      "0\n"
     ]
    }
   ],
   "source": [
    "for idx,val in enumerate(smallSmilesData.chemStruc.values):\n",
    "    m = Chem.MolFromSmiles(val)\n",
    "    descriptor = descList[idx]\n",
    "    tempDescVal = getattr(Descriptors,descriptor)(m)\n",
    "    print(tempDescVal)\n",
    "    break"
   ]
  },
  {
   "cell_type": "code",
   "execution_count": 19,
   "metadata": {
    "collapsed": false
   },
   "outputs": [],
   "source": [
    "descriptorsMatrix = pd.DataFrame(np.zeros([len(smallSmilesData),len(descList)]))\n",
    "descriptorsMatrix.columns = descList\n",
    "descriptorsMatrix.insert(loc=0, column=\"molSID\",value = smallSmilesData.molSID.values)"
   ]
  },
  {
   "cell_type": "code",
   "execution_count": 26,
   "metadata": {
    "collapsed": false
   },
   "outputs": [],
   "source": [
    "descriptorsMatrix.loc[descriptorsMatrix.molSID == 124896151,'MaxAbsPartialCharge'] = 2"
   ]
  },
  {
   "cell_type": "code",
   "execution_count": null,
   "metadata": {
    "collapsed": false
   },
   "outputs": [],
   "source": [
    "for i, mol in enumerate(smallSmilesData.molSID):\n",
    "    m= Chem.MolFromSmiles(smallSmilesData.chemStruc.values[i])\n",
    "    for idx, val in enumerate(descList):\n",
    "        descriptor = descList[idx]\n",
    "        tempDescVal = getattr(Descriptors,descriptor)(m)\n",
    "        descriptorsMatrix.loc[descriptorsMatrix.molSID==smallSmilesData.molSID.values[i],descriptor] = tempDescVal "
   ]
  },
  {
   "cell_type": "markdown",
   "metadata": {},
   "source": [
    "# Mini dataframe\n"
   ]
  },
  {
   "cell_type": "code",
   "execution_count": 20,
   "metadata": {
    "collapsed": false
   },
   "outputs": [],
   "source": [
    "extraSmallData = smallSmilesData[:5]"
   ]
  },
  {
   "cell_type": "code",
   "execution_count": 21,
   "metadata": {
    "collapsed": false
   },
   "outputs": [],
   "source": [
    "exDescM = pd.DataFrame(np.zeros([len(extraSmallData),len(descList)]))\n",
    "exDescM.columns = descList\n",
    "exDescM.insert(loc=0, column=\"molSID\",value = extraSmallData.molSID.values)\n",
    "exDescM.insert(loc=1, column=\"chemStruc\",value = extraSmallData.chemStruc.values)"
   ]
  },
  {
   "cell_type": "markdown",
   "metadata": {},
   "source": [
    "# mini end\n",
    "\n",
    "# method for calculating descriptors for full matrix"
   ]
  },
  {
   "cell_type": "code",
   "execution_count": null,
   "metadata": {
    "collapsed": false
   },
   "outputs": [],
   "source": [
    "for i, mol in enumerate(extraSmallData.molSID):\n",
    "    m= Chem.MolFromSmiles(extraSmallData.chemStruc.values[i])\n",
    "    for idx, val in enumerate(descList):\n",
    "        descriptor = descList[idx]\n",
    "        tempDescVal = getattr(Descriptors,descriptor)(m)\n",
    "        exDescM.loc[exDescM.molSID == mol,descriptor] = tempDescVal \n",
    "        break\n",
    "    break"
   ]
  },
  {
   "cell_type": "code",
   "execution_count": null,
   "metadata": {
    "collapsed": true
   },
   "outputs": [],
   "source": [
    "def calculateDescriptors(descriptorsMatrix):\n",
    "    descList = list(descriptorsMatrix.columns.values)\n",
    "    descList.remove('molSID')\n",
    "    descList.remove('chemStruc')\n",
    "    chemStruc = exDescM.chemStruc.values\n",
    "    for i, mol in enumerate(descriptorsMatrix.molSID):\n",
    "        m= Chem.MolFromSmiles(chemStruc[i])\n",
    "        for idx, val in enumerate(descList): \n",
    "            descriptor = descList[idx]\n",
    "            tempDescVal = getattr(Descriptors,descriptor)(m)\n",
    "            descriptorsMatrix.loc[descriptorsMatrix.molSID == mol , descriptor] = tempDescVal "
   ]
  },
  {
   "cell_type": "code",
   "execution_count": null,
   "metadata": {
    "collapsed": false
   },
   "outputs": [],
   "source": [
    "calculateDescriptors(exDescM)"
   ]
  },
  {
   "cell_type": "code",
   "execution_count": null,
   "metadata": {
    "collapsed": false
   },
   "outputs": [],
   "source": [
    "list(exDescM.columns.values)"
   ]
  },
  {
   "cell_type": "markdown",
   "metadata": {},
   "source": [
    "# Multiprocessing module\n"
   ]
  },
  {
   "cell_type": "code",
   "execution_count": 118,
   "metadata": {
    "collapsed": false
   },
   "outputs": [
    {
     "data": {
      "text/html": [
       "<div>\n",
       "<style scoped>\n",
       "    .dataframe tbody tr th:only-of-type {\n",
       "        vertical-align: middle;\n",
       "    }\n",
       "\n",
       "    .dataframe tbody tr th {\n",
       "        vertical-align: top;\n",
       "    }\n",
       "\n",
       "    .dataframe thead th {\n",
       "        text-align: right;\n",
       "    }\n",
       "</style>\n",
       "<table border=\"1\" class=\"dataframe\">\n",
       "  <thead>\n",
       "    <tr style=\"text-align: right;\">\n",
       "      <th></th>\n",
       "      <th>molSID</th>\n",
       "      <th>chemStr</th>\n",
       "      <th>NumRadicalElectrons</th>\n",
       "      <th>FpDensityMorgan3</th>\n",
       "      <th>MinAbsPartialCharge</th>\n",
       "      <th>MinPartialCharge</th>\n",
       "      <th>HeavyAtomMolWt</th>\n",
       "      <th>MaxEStateIndex</th>\n",
       "      <th>MinAbsEStateIndex</th>\n",
       "      <th>qed</th>\n",
       "      <th>...</th>\n",
       "      <th>fr_sulfide</th>\n",
       "      <th>fr_sulfonamd</th>\n",
       "      <th>fr_sulfone</th>\n",
       "      <th>fr_term_acetylene</th>\n",
       "      <th>fr_tetrazole</th>\n",
       "      <th>fr_thiazole</th>\n",
       "      <th>fr_thiocyan</th>\n",
       "      <th>fr_thiophene</th>\n",
       "      <th>fr_unbrch_alkane</th>\n",
       "      <th>fr_urea</th>\n",
       "    </tr>\n",
       "  </thead>\n",
       "  <tbody>\n",
       "    <tr>\n",
       "      <th>0</th>\n",
       "      <td>124897571</td>\n",
       "      <td>COC1=CC(=C(C=C1/C=C/C2=NC=CC3=CC=CC=C32)OC)OC</td>\n",
       "      <td>0.0</td>\n",
       "      <td>0.0</td>\n",
       "      <td>0.163951</td>\n",
       "      <td>0.0</td>\n",
       "      <td>0.0</td>\n",
       "      <td>0.0</td>\n",
       "      <td>0.0</td>\n",
       "      <td>0.0</td>\n",
       "      <td>...</td>\n",
       "      <td>0.0</td>\n",
       "      <td>0.0</td>\n",
       "      <td>0.0</td>\n",
       "      <td>0.0</td>\n",
       "      <td>0.0</td>\n",
       "      <td>0.0</td>\n",
       "      <td>0.0</td>\n",
       "      <td>0.0</td>\n",
       "      <td>0.0</td>\n",
       "      <td>0.0</td>\n",
       "    </tr>\n",
       "    <tr>\n",
       "      <th>1</th>\n",
       "      <td>124897570</td>\n",
       "      <td>COC1=C(C=C(C=C1)/C=C/C2=NC=CC3=CC=CC=C32)OC</td>\n",
       "      <td>0.0</td>\n",
       "      <td>0.0</td>\n",
       "      <td>0.160809</td>\n",
       "      <td>0.0</td>\n",
       "      <td>0.0</td>\n",
       "      <td>0.0</td>\n",
       "      <td>0.0</td>\n",
       "      <td>0.0</td>\n",
       "      <td>...</td>\n",
       "      <td>0.0</td>\n",
       "      <td>0.0</td>\n",
       "      <td>0.0</td>\n",
       "      <td>0.0</td>\n",
       "      <td>0.0</td>\n",
       "      <td>0.0</td>\n",
       "      <td>0.0</td>\n",
       "      <td>0.0</td>\n",
       "      <td>0.0</td>\n",
       "      <td>0.0</td>\n",
       "    </tr>\n",
       "    <tr>\n",
       "      <th>2</th>\n",
       "      <td>124895757</td>\n",
       "      <td>CC(=O)N(C1=CC=C(C=C1)/C=C/2\\C=CC3=CC=CC=C32)O</td>\n",
       "      <td>0.0</td>\n",
       "      <td>0.0</td>\n",
       "      <td>0.247057</td>\n",
       "      <td>0.0</td>\n",
       "      <td>0.0</td>\n",
       "      <td>0.0</td>\n",
       "      <td>0.0</td>\n",
       "      <td>0.0</td>\n",
       "      <td>...</td>\n",
       "      <td>0.0</td>\n",
       "      <td>0.0</td>\n",
       "      <td>0.0</td>\n",
       "      <td>0.0</td>\n",
       "      <td>0.0</td>\n",
       "      <td>0.0</td>\n",
       "      <td>0.0</td>\n",
       "      <td>0.0</td>\n",
       "      <td>0.0</td>\n",
       "      <td>0.0</td>\n",
       "    </tr>\n",
       "    <tr>\n",
       "      <th>3</th>\n",
       "      <td>124894820</td>\n",
       "      <td>CN(C)C1=CC(=C(C=C1)/C=C/C2=CC=NC3=CC=CC=C23)OC</td>\n",
       "      <td>0.0</td>\n",
       "      <td>0.0</td>\n",
       "      <td>0.127644</td>\n",
       "      <td>0.0</td>\n",
       "      <td>0.0</td>\n",
       "      <td>0.0</td>\n",
       "      <td>0.0</td>\n",
       "      <td>0.0</td>\n",
       "      <td>...</td>\n",
       "      <td>0.0</td>\n",
       "      <td>0.0</td>\n",
       "      <td>0.0</td>\n",
       "      <td>0.0</td>\n",
       "      <td>0.0</td>\n",
       "      <td>0.0</td>\n",
       "      <td>0.0</td>\n",
       "      <td>0.0</td>\n",
       "      <td>0.0</td>\n",
       "      <td>0.0</td>\n",
       "    </tr>\n",
       "    <tr>\n",
       "      <th>4</th>\n",
       "      <td>124894291</td>\n",
       "      <td>CN(C)C1=CC=C(C=C1)C(=O)OC2=CC(=C(C=C2[N+](=O)[...</td>\n",
       "      <td>0.0</td>\n",
       "      <td>0.0</td>\n",
       "      <td>0.343272</td>\n",
       "      <td>0.0</td>\n",
       "      <td>0.0</td>\n",
       "      <td>0.0</td>\n",
       "      <td>0.0</td>\n",
       "      <td>0.0</td>\n",
       "      <td>...</td>\n",
       "      <td>0.0</td>\n",
       "      <td>0.0</td>\n",
       "      <td>0.0</td>\n",
       "      <td>0.0</td>\n",
       "      <td>0.0</td>\n",
       "      <td>0.0</td>\n",
       "      <td>0.0</td>\n",
       "      <td>0.0</td>\n",
       "      <td>0.0</td>\n",
       "      <td>0.0</td>\n",
       "    </tr>\n",
       "  </tbody>\n",
       "</table>\n",
       "<p>5 rows × 202 columns</p>\n",
       "</div>"
      ],
      "text/plain": [
       "      molSID                                            chemStr  \\\n",
       "0  124897571      COC1=CC(=C(C=C1/C=C/C2=NC=CC3=CC=CC=C32)OC)OC   \n",
       "1  124897570        COC1=C(C=C(C=C1)/C=C/C2=NC=CC3=CC=CC=C32)OC   \n",
       "2  124895757      CC(=O)N(C1=CC=C(C=C1)/C=C/2\\C=CC3=CC=CC=C32)O   \n",
       "3  124894820     CN(C)C1=CC(=C(C=C1)/C=C/C2=CC=NC3=CC=CC=C23)OC   \n",
       "4  124894291  CN(C)C1=CC=C(C=C1)C(=O)OC2=CC(=C(C=C2[N+](=O)[...   \n",
       "\n",
       "   NumRadicalElectrons  FpDensityMorgan3  MinAbsPartialCharge  \\\n",
       "0                  0.0               0.0             0.163951   \n",
       "1                  0.0               0.0             0.160809   \n",
       "2                  0.0               0.0             0.247057   \n",
       "3                  0.0               0.0             0.127644   \n",
       "4                  0.0               0.0             0.343272   \n",
       "\n",
       "   MinPartialCharge  HeavyAtomMolWt  MaxEStateIndex  MinAbsEStateIndex  qed  \\\n",
       "0               0.0             0.0             0.0                0.0  0.0   \n",
       "1               0.0             0.0             0.0                0.0  0.0   \n",
       "2               0.0             0.0             0.0                0.0  0.0   \n",
       "3               0.0             0.0             0.0                0.0  0.0   \n",
       "4               0.0             0.0             0.0                0.0  0.0   \n",
       "\n",
       "    ...     fr_sulfide  fr_sulfonamd  fr_sulfone  fr_term_acetylene  \\\n",
       "0   ...            0.0           0.0         0.0                0.0   \n",
       "1   ...            0.0           0.0         0.0                0.0   \n",
       "2   ...            0.0           0.0         0.0                0.0   \n",
       "3   ...            0.0           0.0         0.0                0.0   \n",
       "4   ...            0.0           0.0         0.0                0.0   \n",
       "\n",
       "   fr_tetrazole  fr_thiazole  fr_thiocyan  fr_thiophene  fr_unbrch_alkane  \\\n",
       "0           0.0          0.0          0.0           0.0               0.0   \n",
       "1           0.0          0.0          0.0           0.0               0.0   \n",
       "2           0.0          0.0          0.0           0.0               0.0   \n",
       "3           0.0          0.0          0.0           0.0               0.0   \n",
       "4           0.0          0.0          0.0           0.0               0.0   \n",
       "\n",
       "   fr_urea  \n",
       "0      0.0  \n",
       "1      0.0  \n",
       "2      0.0  \n",
       "3      0.0  \n",
       "4      0.0  \n",
       "\n",
       "[5 rows x 202 columns]"
      ]
     },
     "execution_count": 118,
     "metadata": {},
     "output_type": "execute_result"
    }
   ],
   "source": [
    "dM.head()"
   ]
  },
  {
   "cell_type": "code",
   "execution_count": 112,
   "metadata": {
    "collapsed": true
   },
   "outputs": [],
   "source": [
    "def simpleCalcDesc(molSID):\n",
    "    chemStr = dM.chemStr.values[dM.molSID==molSID][0]\n",
    "    m= Chem.MolFromSmiles(chemStr)\n",
    "    descVal = Descriptors.MinAbsPartialCharge(m)    \n",
    "    dM.loc[dM.molSID == molSID, 'MinAbsPartialCharge'] = descVal\n"
   ]
  },
  {
   "cell_type": "code",
   "execution_count": 42,
   "metadata": {
    "collapsed": false
   },
   "outputs": [],
   "source": [
    "import time\n",
    "from multiprocessing import Pool"
   ]
  },
  {
   "cell_type": "code",
   "execution_count": 113,
   "metadata": {
    "collapsed": false
   },
   "outputs": [],
   "source": [
    "simpleCalcDesc(124897571)"
   ]
  },
  {
   "cell_type": "code",
   "execution_count": 116,
   "metadata": {
    "collapsed": false
   },
   "outputs": [
    {
     "name": "stdout",
     "output_type": "stream",
     "text": [
      "time to complete:  0.7645409107208252\n"
     ]
    }
   ],
   "source": [
    "#from functools import partial\n",
    "\n",
    "\n",
    "#iterable = list(range(len(npMolSID)))\n",
    "\n",
    "#func = partial(simpleCalcDesc,)\n",
    "start = time.time()\n",
    "pool = mp.Pool()\n",
    "result = pool.map(simpleCalcDesc,npMolSID)\n",
    "\n",
    "end = time.time()\n",
    "pool.close()\n",
    "print(\"time to complete: \", end-start)"
   ]
  },
  {
   "cell_type": "code",
   "execution_count": 115,
   "metadata": {
    "collapsed": false
   },
   "outputs": [
    {
     "name": "stdout",
     "output_type": "stream",
     "text": [
      "time to complete:  2.9460060596466064\n"
     ]
    }
   ],
   "source": [
    "start = time.time()\n",
    "for idx,val in enumerate(npChemStr):\n",
    "    simpleCalcDesc(npMolSID[idx])\n",
    "end = time.time()\n",
    "print(\"time to complete: \", end-start)"
   ]
  },
  {
   "cell_type": "code",
   "execution_count": null,
   "metadata": {
    "collapsed": true
   },
   "outputs": [],
   "source": [
    "num_partitions = 2 #number of partitions to split dataframe\n",
    "num_cores = 4 #number of cores on your machine"
   ]
  },
  {
   "cell_type": "markdown",
   "metadata": {
    "collapsed": true
   },
   "source": [
    "# Trying things"
   ]
  },
  {
   "cell_type": "code",
   "execution_count": 23,
   "metadata": {
    "collapsed": false
   },
   "outputs": [
    {
     "data": {
      "text/plain": [
       "8"
      ]
     },
     "execution_count": 23,
     "metadata": {},
     "output_type": "execute_result"
    }
   ],
   "source": [
    "output = mp.Queue()\n",
    "mp.cpu_count()"
   ]
  },
  {
   "cell_type": "code",
   "execution_count": 24,
   "metadata": {
    "collapsed": true
   },
   "outputs": [],
   "source": [
    "dM = pd.DataFrame(np.zeros([len(smallSmilesData),len(descList)]))\n",
    "dM.columns = descList\n",
    "dM.insert(loc=0, column=\"molSID\",value = smallSmilesData.molSID.values)\n",
    "dM.insert(loc=1, column=\"chemStr\",value = smallSmilesData.chemStruc.values)"
   ]
  },
  {
   "cell_type": "code",
   "execution_count": 25,
   "metadata": {
    "collapsed": false
   },
   "outputs": [],
   "source": [
    "chemStr = dM.chemStr.values\n",
    "molSID = dM.molSID.values"
   ]
  },
  {
   "cell_type": "code",
   "execution_count": 27,
   "metadata": {
    "collapsed": false
   },
   "outputs": [],
   "source": [
    "def calculateDescriptor(descriptor, chemStr,molSID):\n",
    "    for idx,val in enumerate(molSID):\n",
    "        m= Chem.MolFromSmiles(chemStr[idx])\n",
    "        descVal = Descriptors.MaxAbsPartialCharge(m)\n",
    "        dM.loc[dM.molSID == val, descriptor] = descVal\n"
   ]
  },
  {
   "cell_type": "code",
   "execution_count": 76,
   "metadata": {
    "collapsed": false
   },
   "outputs": [
    {
     "data": {
      "text/plain": [
       "0    1.034612\n",
       "Name: MinAbsEStateIndex, dtype: float64"
      ]
     },
     "execution_count": 76,
     "metadata": {},
     "output_type": "execute_result"
    }
   ],
   "source": [
    "dM.loc[dM.molSID == 124897320, 'MinAbsEStateIndex']"
   ]
  },
  {
   "cell_type": "code",
   "execution_count": 29,
   "metadata": {
    "collapsed": false
   },
   "outputs": [
    {
     "name": "stdout",
     "output_type": "stream",
     "text": [
      "0.2562218097933055\n"
     ]
    }
   ],
   "source": [
    "simpleCalcDesc('MinAbsEStateIndex','CSC1=CC=C(C=C1)/C=C/C2=CC=NC3=CC=CC=C23',124897320)"
   ]
  },
  {
   "cell_type": "code",
   "execution_count": 30,
   "metadata": {
    "collapsed": false
   },
   "outputs": [],
   "source": [
    "npMolSID = np.array(molSID)\n",
    "npChemStr = np.array(chemStr)\n",
    "npDescript =  ['MolWt']*len(npMolSID);\n",
    "np.vstack((npMolSID,npChemStr))\n",
    "paData =np.vstack((npDescript,npChemStr,npMolSID))"
   ]
  },
  {
   "cell_type": "code",
   "execution_count": 117,
   "metadata": {
    "collapsed": false
   },
   "outputs": [
    {
     "data": {
      "text/html": [
       "<div>\n",
       "<style scoped>\n",
       "    .dataframe tbody tr th:only-of-type {\n",
       "        vertical-align: middle;\n",
       "    }\n",
       "\n",
       "    .dataframe tbody tr th {\n",
       "        vertical-align: top;\n",
       "    }\n",
       "\n",
       "    .dataframe thead th {\n",
       "        text-align: right;\n",
       "    }\n",
       "</style>\n",
       "<table border=\"1\" class=\"dataframe\">\n",
       "  <thead>\n",
       "    <tr style=\"text-align: right;\">\n",
       "      <th></th>\n",
       "      <th>molSID</th>\n",
       "      <th>chemStr</th>\n",
       "      <th>NumRadicalElectrons</th>\n",
       "      <th>FpDensityMorgan3</th>\n",
       "      <th>MinAbsPartialCharge</th>\n",
       "      <th>MinPartialCharge</th>\n",
       "      <th>HeavyAtomMolWt</th>\n",
       "      <th>MaxEStateIndex</th>\n",
       "      <th>MinAbsEStateIndex</th>\n",
       "      <th>qed</th>\n",
       "      <th>...</th>\n",
       "      <th>fr_sulfide</th>\n",
       "      <th>fr_sulfonamd</th>\n",
       "      <th>fr_sulfone</th>\n",
       "      <th>fr_term_acetylene</th>\n",
       "      <th>fr_tetrazole</th>\n",
       "      <th>fr_thiazole</th>\n",
       "      <th>fr_thiocyan</th>\n",
       "      <th>fr_thiophene</th>\n",
       "      <th>fr_unbrch_alkane</th>\n",
       "      <th>fr_urea</th>\n",
       "    </tr>\n",
       "  </thead>\n",
       "  <tbody>\n",
       "    <tr>\n",
       "      <th>0</th>\n",
       "      <td>124897571</td>\n",
       "      <td>COC1=CC(=C(C=C1/C=C/C2=NC=CC3=CC=CC=C32)OC)OC</td>\n",
       "      <td>0.0</td>\n",
       "      <td>0.0</td>\n",
       "      <td>0.163951</td>\n",
       "      <td>0.0</td>\n",
       "      <td>0.0</td>\n",
       "      <td>0.0</td>\n",
       "      <td>0.0</td>\n",
       "      <td>0.0</td>\n",
       "      <td>...</td>\n",
       "      <td>0.0</td>\n",
       "      <td>0.0</td>\n",
       "      <td>0.0</td>\n",
       "      <td>0.0</td>\n",
       "      <td>0.0</td>\n",
       "      <td>0.0</td>\n",
       "      <td>0.0</td>\n",
       "      <td>0.0</td>\n",
       "      <td>0.0</td>\n",
       "      <td>0.0</td>\n",
       "    </tr>\n",
       "    <tr>\n",
       "      <th>1</th>\n",
       "      <td>124897570</td>\n",
       "      <td>COC1=C(C=C(C=C1)/C=C/C2=NC=CC3=CC=CC=C32)OC</td>\n",
       "      <td>0.0</td>\n",
       "      <td>0.0</td>\n",
       "      <td>0.160809</td>\n",
       "      <td>0.0</td>\n",
       "      <td>0.0</td>\n",
       "      <td>0.0</td>\n",
       "      <td>0.0</td>\n",
       "      <td>0.0</td>\n",
       "      <td>...</td>\n",
       "      <td>0.0</td>\n",
       "      <td>0.0</td>\n",
       "      <td>0.0</td>\n",
       "      <td>0.0</td>\n",
       "      <td>0.0</td>\n",
       "      <td>0.0</td>\n",
       "      <td>0.0</td>\n",
       "      <td>0.0</td>\n",
       "      <td>0.0</td>\n",
       "      <td>0.0</td>\n",
       "    </tr>\n",
       "    <tr>\n",
       "      <th>2</th>\n",
       "      <td>124895757</td>\n",
       "      <td>CC(=O)N(C1=CC=C(C=C1)/C=C/2\\C=CC3=CC=CC=C32)O</td>\n",
       "      <td>0.0</td>\n",
       "      <td>0.0</td>\n",
       "      <td>0.247057</td>\n",
       "      <td>0.0</td>\n",
       "      <td>0.0</td>\n",
       "      <td>0.0</td>\n",
       "      <td>0.0</td>\n",
       "      <td>0.0</td>\n",
       "      <td>...</td>\n",
       "      <td>0.0</td>\n",
       "      <td>0.0</td>\n",
       "      <td>0.0</td>\n",
       "      <td>0.0</td>\n",
       "      <td>0.0</td>\n",
       "      <td>0.0</td>\n",
       "      <td>0.0</td>\n",
       "      <td>0.0</td>\n",
       "      <td>0.0</td>\n",
       "      <td>0.0</td>\n",
       "    </tr>\n",
       "    <tr>\n",
       "      <th>3</th>\n",
       "      <td>124894820</td>\n",
       "      <td>CN(C)C1=CC(=C(C=C1)/C=C/C2=CC=NC3=CC=CC=C23)OC</td>\n",
       "      <td>0.0</td>\n",
       "      <td>0.0</td>\n",
       "      <td>0.127644</td>\n",
       "      <td>0.0</td>\n",
       "      <td>0.0</td>\n",
       "      <td>0.0</td>\n",
       "      <td>0.0</td>\n",
       "      <td>0.0</td>\n",
       "      <td>...</td>\n",
       "      <td>0.0</td>\n",
       "      <td>0.0</td>\n",
       "      <td>0.0</td>\n",
       "      <td>0.0</td>\n",
       "      <td>0.0</td>\n",
       "      <td>0.0</td>\n",
       "      <td>0.0</td>\n",
       "      <td>0.0</td>\n",
       "      <td>0.0</td>\n",
       "      <td>0.0</td>\n",
       "    </tr>\n",
       "    <tr>\n",
       "      <th>4</th>\n",
       "      <td>124894291</td>\n",
       "      <td>CN(C)C1=CC=C(C=C1)C(=O)OC2=CC(=C(C=C2[N+](=O)[...</td>\n",
       "      <td>0.0</td>\n",
       "      <td>0.0</td>\n",
       "      <td>0.343272</td>\n",
       "      <td>0.0</td>\n",
       "      <td>0.0</td>\n",
       "      <td>0.0</td>\n",
       "      <td>0.0</td>\n",
       "      <td>0.0</td>\n",
       "      <td>...</td>\n",
       "      <td>0.0</td>\n",
       "      <td>0.0</td>\n",
       "      <td>0.0</td>\n",
       "      <td>0.0</td>\n",
       "      <td>0.0</td>\n",
       "      <td>0.0</td>\n",
       "      <td>0.0</td>\n",
       "      <td>0.0</td>\n",
       "      <td>0.0</td>\n",
       "      <td>0.0</td>\n",
       "    </tr>\n",
       "  </tbody>\n",
       "</table>\n",
       "<p>5 rows × 202 columns</p>\n",
       "</div>"
      ],
      "text/plain": [
       "      molSID                                            chemStr  \\\n",
       "0  124897571      COC1=CC(=C(C=C1/C=C/C2=NC=CC3=CC=CC=C32)OC)OC   \n",
       "1  124897570        COC1=C(C=C(C=C1)/C=C/C2=NC=CC3=CC=CC=C32)OC   \n",
       "2  124895757      CC(=O)N(C1=CC=C(C=C1)/C=C/2\\C=CC3=CC=CC=C32)O   \n",
       "3  124894820     CN(C)C1=CC(=C(C=C1)/C=C/C2=CC=NC3=CC=CC=C23)OC   \n",
       "4  124894291  CN(C)C1=CC=C(C=C1)C(=O)OC2=CC(=C(C=C2[N+](=O)[...   \n",
       "\n",
       "   NumRadicalElectrons  FpDensityMorgan3  MinAbsPartialCharge  \\\n",
       "0                  0.0               0.0             0.163951   \n",
       "1                  0.0               0.0             0.160809   \n",
       "2                  0.0               0.0             0.247057   \n",
       "3                  0.0               0.0             0.127644   \n",
       "4                  0.0               0.0             0.343272   \n",
       "\n",
       "   MinPartialCharge  HeavyAtomMolWt  MaxEStateIndex  MinAbsEStateIndex  qed  \\\n",
       "0               0.0             0.0             0.0                0.0  0.0   \n",
       "1               0.0             0.0             0.0                0.0  0.0   \n",
       "2               0.0             0.0             0.0                0.0  0.0   \n",
       "3               0.0             0.0             0.0                0.0  0.0   \n",
       "4               0.0             0.0             0.0                0.0  0.0   \n",
       "\n",
       "    ...     fr_sulfide  fr_sulfonamd  fr_sulfone  fr_term_acetylene  \\\n",
       "0   ...            0.0           0.0         0.0                0.0   \n",
       "1   ...            0.0           0.0         0.0                0.0   \n",
       "2   ...            0.0           0.0         0.0                0.0   \n",
       "3   ...            0.0           0.0         0.0                0.0   \n",
       "4   ...            0.0           0.0         0.0                0.0   \n",
       "\n",
       "   fr_tetrazole  fr_thiazole  fr_thiocyan  fr_thiophene  fr_unbrch_alkane  \\\n",
       "0           0.0          0.0          0.0           0.0               0.0   \n",
       "1           0.0          0.0          0.0           0.0               0.0   \n",
       "2           0.0          0.0          0.0           0.0               0.0   \n",
       "3           0.0          0.0          0.0           0.0               0.0   \n",
       "4           0.0          0.0          0.0           0.0               0.0   \n",
       "\n",
       "   fr_urea  \n",
       "0      0.0  \n",
       "1      0.0  \n",
       "2      0.0  \n",
       "3      0.0  \n",
       "4      0.0  \n",
       "\n",
       "[5 rows x 202 columns]"
      ]
     },
     "execution_count": 117,
     "metadata": {},
     "output_type": "execute_result"
    }
   ],
   "source": [
    "dM.head()"
   ]
  },
  {
   "cell_type": "code",
   "execution_count": 88,
   "metadata": {
    "collapsed": false
   },
   "outputs": [],
   "source": [
    "dM.loc[dM.molSID == 124897571, 'NumRadicalElectrons']= 2"
   ]
  },
  {
   "cell_type": "code",
   "execution_count": null,
   "metadata": {
    "collapsed": true
   },
   "outputs": [],
   "source": [
    "def parallelize_dataframe(df, func):\n",
    "    df_split = np.array_split(df, num_partitions)\n",
    "    pool = Pool(num_cores)\n",
    "    df = pd.concat(pool.map(func, df_split))\n",
    "    pool.close()\n",
    "    pool.join()\n",
    "    return df"
   ]
  },
  {
   "cell_type": "code",
   "execution_count": null,
   "metadata": {
    "collapsed": false
   },
   "outputs": [],
   "source": [
    "result = parallelize_dataframe(exDescM,calculateDescriptors)"
   ]
  }
 ],
 "metadata": {
  "anaconda-cloud": {},
  "kernelspec": {
   "display_name": "Python [conda env:anaconda3]",
   "language": "python",
   "name": "conda-env-anaconda3-py"
  },
  "language_info": {
   "codemirror_mode": {
    "name": "ipython",
    "version": 3
   },
   "file_extension": ".py",
   "mimetype": "text/x-python",
   "name": "python",
   "nbconvert_exporter": "python",
   "pygments_lexer": "ipython3",
   "version": "3.5.2"
  }
 },
 "nbformat": 4,
 "nbformat_minor": 1
}
