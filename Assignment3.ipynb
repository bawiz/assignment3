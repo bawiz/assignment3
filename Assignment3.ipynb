{
 "cells": [
  {
   "cell_type": "code",
   "execution_count": 23,
   "metadata": {
    "collapsed": false
   },
   "outputs": [],
   "source": [
    "import numpy as np # Scientific computing library with lots of valuable methods\n",
    "import pandas as pd # Library for data frames in python\n",
    "from rdkit import Chem # Open-source cheminformatics and machine learning library\n",
    "from rdkit.Chem import Descriptors # import of descriptors module to calculate descriptors\n",
    "import time # library to count time\n",
    "from multiprocessing import Pool # multiprocessing library with pooling of cores.\n",
    "import multiprocessing as mp # multiprocessing library with\n",
    "import matplotlib.pyplot as plt # Library for easy plotting"
   ]
  },
  {
   "cell_type": "code",
   "execution_count": 26,
   "metadata": {
    "collapsed": false
   },
   "outputs": [
    {
     "name": "stdout",
     "output_type": "stream",
     "text": [
      "Pandas version  0.23.4\n",
      "Numpy version  1.13.3\n"
     ]
    }
   ],
   "source": [
    "print (\"Pandas version \",pd.__version__)\n",
    "print (\"Numpy version \",np.__version__)"
   ]
  },
  {
   "cell_type": "markdown",
   "metadata": {},
   "source": [
    "# Import data\n",
    "Data.csv contains all the tested substances for BRCA1 expression in the AID 624202\n",
    "The file can be downloaded here: https://pubchem.ncbi.nlm.nih.gov/bioassay/624202#section=Top\n",
    "Click \"Download\" -> \"Data Table only\" -> save"
   ]
  },
  {
   "cell_type": "code",
   "execution_count": 2,
   "metadata": {
    "collapsed": false
   },
   "outputs": [],
   "source": [
    "data = pd.read_csv(\"data.csv\",low_memory=False);"
   ]
  },
  {
   "cell_type": "markdown",
   "metadata": {},
   "source": [
    "# Import smiles data from txt file\n",
    "\n",
    "The simplified molecular-input line-entry system (SMILES) is a specification in form of a line notation for describing the structure of chemical species using short ASCII strings. SMILES strings can be imported by most molecule editors for conversion back into two-dimensional drawings or three-dimensional models of the molecules. The smiles data file shows the molecule ids and their respective structure. It was downloaded here:\n",
    "https://pubchem.ncbi.nlm.nih.gov/bioassay/624202#section=Top\n",
    "\n",
    "Click on the \"Download\" tab -> select \"tested substances\" -> click \"Download service\" -> Chose \"Smiles\" as format and download. "
   ]
  },
  {
   "cell_type": "code",
   "execution_count": 3,
   "metadata": {
    "collapsed": false
   },
   "outputs": [
    {
     "data": {
      "text/html": [
       "<div>\n",
       "<style scoped>\n",
       "    .dataframe tbody tr th:only-of-type {\n",
       "        vertical-align: middle;\n",
       "    }\n",
       "\n",
       "    .dataframe tbody tr th {\n",
       "        vertical-align: top;\n",
       "    }\n",
       "\n",
       "    .dataframe thead th {\n",
       "        text-align: right;\n",
       "    }\n",
       "</style>\n",
       "<table border=\"1\" class=\"dataframe\">\n",
       "  <thead>\n",
       "    <tr style=\"text-align: right;\">\n",
       "      <th></th>\n",
       "      <th>molSID</th>\n",
       "      <th>chemStruc</th>\n",
       "    </tr>\n",
       "  </thead>\n",
       "  <tbody>\n",
       "    <tr>\n",
       "      <th>0</th>\n",
       "      <td>124899260</td>\n",
       "      <td>C1=CC=C(C=C1)CCCCOC2=CC=C(C=C2)CC(=O)NO</td>\n",
       "    </tr>\n",
       "    <tr>\n",
       "      <th>1</th>\n",
       "      <td>124899259</td>\n",
       "      <td>C1=CC=NC(=C1)COC2=CC=C(C=C2)CC(=O)NO</td>\n",
       "    </tr>\n",
       "    <tr>\n",
       "      <th>2</th>\n",
       "      <td>124899258</td>\n",
       "      <td>C1=CC=C(C=C1)CCCOC2=CC=C(C=C2)CC(=O)NO</td>\n",
       "    </tr>\n",
       "    <tr>\n",
       "      <th>3</th>\n",
       "      <td>124899257</td>\n",
       "      <td>CC(C)COC1=CC=C(C=C1)CC(=O)NO</td>\n",
       "    </tr>\n",
       "    <tr>\n",
       "      <th>4</th>\n",
       "      <td>124899256</td>\n",
       "      <td>CCCCCCCOC1=CC=C(C=C1)CC(=O)NO</td>\n",
       "    </tr>\n",
       "  </tbody>\n",
       "</table>\n",
       "</div>"
      ],
      "text/plain": [
       "      molSID                                chemStruc\n",
       "0  124899260  C1=CC=C(C=C1)CCCCOC2=CC=C(C=C2)CC(=O)NO\n",
       "1  124899259     C1=CC=NC(=C1)COC2=CC=C(C=C2)CC(=O)NO\n",
       "2  124899258   C1=CC=C(C=C1)CCCOC2=CC=C(C=C2)CC(=O)NO\n",
       "3  124899257             CC(C)COC1=CC=C(C=C1)CC(=O)NO\n",
       "4  124899256            CCCCCCCOC1=CC=C(C=C1)CC(=O)NO"
      ]
     },
     "execution_count": 3,
     "metadata": {},
     "output_type": "execute_result"
    }
   ],
   "source": [
    "smilesData = pd.read_csv(\"smilesData.txt\",sep=\"\\t\", header=None);\n",
    "smilesData.columns = ['molSID','chemStruc']\n",
    "smilesData.head()"
   ]
  },
  {
   "cell_type": "markdown",
   "metadata": {},
   "source": [
    "The rdkit.Chem package has the Descriptors module available which has 200 descriptor calculation methods. The api contains more information on available descriptors:\n",
    "http://www.rdkit.org/Python_Docs/rdkit.Chem.Descriptors-module.html"
   ]
  },
  {
   "cell_type": "code",
   "execution_count": 4,
   "metadata": {
    "collapsed": true
   },
   "outputs": [],
   "source": [
    "# Import a list of possible decsriptor calculation methods from the Descriptor Package.\n",
    "descList = [i[0] for i in Descriptors._descList]\n",
    "# Remove the first 5 rows \n",
    "data = data.loc[5:,['PUBCHEM_SID','PUBCHEM_ACTIVITY_SCORE']];"
   ]
  },
  {
   "cell_type": "markdown",
   "metadata": {},
   "source": [
    "Because the full data file contains almost 400.000 substances we will select a subset of them. In genereal there are way more inactive molecules in the BRCA1 expression than actives."
   ]
  },
  {
   "cell_type": "code",
   "execution_count": 5,
   "metadata": {
    "collapsed": false
   },
   "outputs": [
    {
     "name": "stdout",
     "output_type": "stream",
     "text": [
      "Number of inactives is  364035\n",
      "Number of actives is  13515\n"
     ]
    }
   ],
   "source": [
    "inactives= data.loc[data.PUBCHEM_ACTIVITY_SCORE==0]\n",
    "actives= data.loc[data.PUBCHEM_ACTIVITY_SCORE!=0]\n",
    "print(\"Number of inactives is \",len(inactives))\n",
    "print(\"Number of actives is \", len(actives))"
   ]
  },
  {
   "cell_type": "code",
   "execution_count": 6,
   "metadata": {
    "collapsed": false
   },
   "outputs": [],
   "source": [
    "# Select samples of inactive and active substances to create a small dataset\n",
    "selectedInactives = inactives.sample(350)\n",
    "selectedActives = actives.sample(700)\n",
    "smallDataset = pd.concat([selectedInactives,selectedActives])"
   ]
  },
  {
   "cell_type": "code",
   "execution_count": 7,
   "metadata": {
    "collapsed": false
   },
   "outputs": [
    {
     "data": {
      "text/html": [
       "<div>\n",
       "<style scoped>\n",
       "    .dataframe tbody tr th:only-of-type {\n",
       "        vertical-align: middle;\n",
       "    }\n",
       "\n",
       "    .dataframe tbody tr th {\n",
       "        vertical-align: top;\n",
       "    }\n",
       "\n",
       "    .dataframe thead th {\n",
       "        text-align: right;\n",
       "    }\n",
       "</style>\n",
       "<table border=\"1\" class=\"dataframe\">\n",
       "  <thead>\n",
       "    <tr style=\"text-align: right;\">\n",
       "      <th></th>\n",
       "      <th>PUBCHEM_SID</th>\n",
       "      <th>PUBCHEM_ACTIVITY_SCORE</th>\n",
       "    </tr>\n",
       "  </thead>\n",
       "  <tbody>\n",
       "    <tr>\n",
       "      <th>342446</th>\n",
       "      <td>85270731.0</td>\n",
       "      <td>0.0</td>\n",
       "    </tr>\n",
       "    <tr>\n",
       "      <th>266238</th>\n",
       "      <td>49715795.0</td>\n",
       "      <td>0.0</td>\n",
       "    </tr>\n",
       "    <tr>\n",
       "      <th>98185</th>\n",
       "      <td>17414609.0</td>\n",
       "      <td>0.0</td>\n",
       "    </tr>\n",
       "    <tr>\n",
       "      <th>127227</th>\n",
       "      <td>22412465.0</td>\n",
       "      <td>0.0</td>\n",
       "    </tr>\n",
       "    <tr>\n",
       "      <th>20767</th>\n",
       "      <td>3713867.0</td>\n",
       "      <td>0.0</td>\n",
       "    </tr>\n",
       "  </tbody>\n",
       "</table>\n",
       "</div>"
      ],
      "text/plain": [
       "        PUBCHEM_SID  PUBCHEM_ACTIVITY_SCORE\n",
       "342446   85270731.0                     0.0\n",
       "266238   49715795.0                     0.0\n",
       "98185    17414609.0                     0.0\n",
       "127227   22412465.0                     0.0\n",
       "20767     3713867.0                     0.0"
      ]
     },
     "execution_count": 7,
     "metadata": {},
     "output_type": "execute_result"
    }
   ],
   "source": [
    "smallDataset.head()"
   ]
  },
  {
   "cell_type": "code",
   "execution_count": 8,
   "metadata": {
    "collapsed": false
   },
   "outputs": [
    {
     "name": "stdout",
     "output_type": "stream",
     "text": [
      "Shape of small dataset is (1050, 2)\n"
     ]
    }
   ],
   "source": [
    "print(\"Shape of small dataset is\",smallDataset.shape)"
   ]
  },
  {
   "cell_type": "code",
   "execution_count": 9,
   "metadata": {
    "collapsed": true
   },
   "outputs": [],
   "source": [
    "# Convert floating point values to integers. \n",
    "smallDataset['PUBCHEM_SID'] = smallDataset['PUBCHEM_SID'].astype(np.int64)\n",
    "smallDataset['PUBCHEM_ACTIVITY_SCORE'] = smallDataset['PUBCHEM_ACTIVITY_SCORE'].astype(np.int64)"
   ]
  },
  {
   "cell_type": "code",
   "execution_count": 10,
   "metadata": {
    "collapsed": false
   },
   "outputs": [
    {
     "data": {
      "text/html": [
       "<div>\n",
       "<style scoped>\n",
       "    .dataframe tbody tr th:only-of-type {\n",
       "        vertical-align: middle;\n",
       "    }\n",
       "\n",
       "    .dataframe tbody tr th {\n",
       "        vertical-align: top;\n",
       "    }\n",
       "\n",
       "    .dataframe thead th {\n",
       "        text-align: right;\n",
       "    }\n",
       "</style>\n",
       "<table border=\"1\" class=\"dataframe\">\n",
       "  <thead>\n",
       "    <tr style=\"text-align: right;\">\n",
       "      <th></th>\n",
       "      <th>PUBCHEM_SID</th>\n",
       "      <th>PUBCHEM_ACTIVITY_SCORE</th>\n",
       "    </tr>\n",
       "  </thead>\n",
       "  <tbody>\n",
       "    <tr>\n",
       "      <th>342446</th>\n",
       "      <td>85270731</td>\n",
       "      <td>0</td>\n",
       "    </tr>\n",
       "    <tr>\n",
       "      <th>266238</th>\n",
       "      <td>49715795</td>\n",
       "      <td>0</td>\n",
       "    </tr>\n",
       "    <tr>\n",
       "      <th>98185</th>\n",
       "      <td>17414609</td>\n",
       "      <td>0</td>\n",
       "    </tr>\n",
       "    <tr>\n",
       "      <th>127227</th>\n",
       "      <td>22412465</td>\n",
       "      <td>0</td>\n",
       "    </tr>\n",
       "    <tr>\n",
       "      <th>20767</th>\n",
       "      <td>3713867</td>\n",
       "      <td>0</td>\n",
       "    </tr>\n",
       "  </tbody>\n",
       "</table>\n",
       "</div>"
      ],
      "text/plain": [
       "        PUBCHEM_SID  PUBCHEM_ACTIVITY_SCORE\n",
       "342446     85270731                       0\n",
       "266238     49715795                       0\n",
       "98185      17414609                       0\n",
       "127227     22412465                       0\n",
       "20767       3713867                       0"
      ]
     },
     "execution_count": 10,
     "metadata": {},
     "output_type": "execute_result"
    }
   ],
   "source": [
    "smallDataset.head()"
   ]
  },
  {
   "cell_type": "markdown",
   "metadata": {},
   "source": [
    "# Creating the descriptors Matrix"
   ]
  },
  {
   "cell_type": "code",
   "execution_count": 11,
   "metadata": {
    "collapsed": false
   },
   "outputs": [],
   "source": [
    "# subset the smiles data with the small dataset entries computed above.\n",
    "smallSmilesData = smilesData.loc[smilesData.molSID.isin(smallDataset.PUBCHEM_SID.values)]"
   ]
  },
  {
   "cell_type": "code",
   "execution_count": 12,
   "metadata": {
    "collapsed": false
   },
   "outputs": [
    {
     "data": {
      "text/html": [
       "<div>\n",
       "<style scoped>\n",
       "    .dataframe tbody tr th:only-of-type {\n",
       "        vertical-align: middle;\n",
       "    }\n",
       "\n",
       "    .dataframe tbody tr th {\n",
       "        vertical-align: top;\n",
       "    }\n",
       "\n",
       "    .dataframe thead th {\n",
       "        text-align: right;\n",
       "    }\n",
       "</style>\n",
       "<table border=\"1\" class=\"dataframe\">\n",
       "  <thead>\n",
       "    <tr style=\"text-align: right;\">\n",
       "      <th></th>\n",
       "      <th>molSID</th>\n",
       "      <th>chemStruc</th>\n",
       "    </tr>\n",
       "  </thead>\n",
       "  <tbody>\n",
       "    <tr>\n",
       "      <th>129</th>\n",
       "      <td>124897762</td>\n",
       "      <td>CN(C)C1=CC=C(C=C1)/C=C/C2=CN=CC3=CC=CC=C32</td>\n",
       "    </tr>\n",
       "    <tr>\n",
       "      <th>335</th>\n",
       "      <td>124897061</td>\n",
       "      <td>C1=CC=C2C(C=CC2=C1)C3=CC=C(C=C3)Br</td>\n",
       "    </tr>\n",
       "    <tr>\n",
       "      <th>683</th>\n",
       "      <td>124895798</td>\n",
       "      <td>CN(C)C1=CC(=C(C=C1)/C=C/C2=CC=NC3=CC=CC=C23)N</td>\n",
       "    </tr>\n",
       "    <tr>\n",
       "      <th>1554</th>\n",
       "      <td>124882850</td>\n",
       "      <td>C1=CC=C(C=C1)C2=CC(=O)C3=C(C(=C(C=C3O2)O)O)O</td>\n",
       "    </tr>\n",
       "    <tr>\n",
       "      <th>1994</th>\n",
       "      <td>124755697</td>\n",
       "      <td>COC1=CC=C(C=C1)C2=C(C3=C(O2)CCCC3OCCCO)C(=O)OCCO</td>\n",
       "    </tr>\n",
       "  </tbody>\n",
       "</table>\n",
       "</div>"
      ],
      "text/plain": [
       "         molSID                                         chemStruc\n",
       "129   124897762        CN(C)C1=CC=C(C=C1)/C=C/C2=CN=CC3=CC=CC=C32\n",
       "335   124897061                C1=CC=C2C(C=CC2=C1)C3=CC=C(C=C3)Br\n",
       "683   124895798     CN(C)C1=CC(=C(C=C1)/C=C/C2=CC=NC3=CC=CC=C23)N\n",
       "1554  124882850      C1=CC=C(C=C1)C2=CC(=O)C3=C(C(=C(C=C3O2)O)O)O\n",
       "1994  124755697  COC1=CC=C(C=C1)C2=C(C3=C(O2)CCCC3OCCCO)C(=O)OCCO"
      ]
     },
     "execution_count": 12,
     "metadata": {},
     "output_type": "execute_result"
    }
   ],
   "source": [
    "smallSmilesData.head()"
   ]
  },
  {
   "cell_type": "markdown",
   "metadata": {},
   "source": [
    "To calculate the descriptors we create a descriptors matrix. By allocating memory beforehand we save the compiler to do that dynamically which will speed up the process."
   ]
  },
  {
   "cell_type": "code",
   "execution_count": 13,
   "metadata": {
    "collapsed": true
   },
   "outputs": [],
   "source": [
    "dM = pd.DataFrame(np.zeros([len(smallSmilesData),len(descList)]))\n",
    "dM.columns = descList\n",
    "dM.insert(loc=0, column=\"molSID\",value = smallSmilesData.molSID.values)\n",
    "dM.insert(loc=1, column=\"chemStr\",value = smallSmilesData.chemStruc.values)"
   ]
  },
  {
   "cell_type": "code",
   "execution_count": 14,
   "metadata": {
    "collapsed": false
   },
   "outputs": [
    {
     "data": {
      "text/html": [
       "<div>\n",
       "<style scoped>\n",
       "    .dataframe tbody tr th:only-of-type {\n",
       "        vertical-align: middle;\n",
       "    }\n",
       "\n",
       "    .dataframe tbody tr th {\n",
       "        vertical-align: top;\n",
       "    }\n",
       "\n",
       "    .dataframe thead th {\n",
       "        text-align: right;\n",
       "    }\n",
       "</style>\n",
       "<table border=\"1\" class=\"dataframe\">\n",
       "  <thead>\n",
       "    <tr style=\"text-align: right;\">\n",
       "      <th></th>\n",
       "      <th>molSID</th>\n",
       "      <th>chemStr</th>\n",
       "      <th>NumValenceElectrons</th>\n",
       "      <th>MaxAbsPartialCharge</th>\n",
       "      <th>MaxEStateIndex</th>\n",
       "      <th>MaxAbsEStateIndex</th>\n",
       "      <th>MinEStateIndex</th>\n",
       "      <th>MaxPartialCharge</th>\n",
       "      <th>MinAbsEStateIndex</th>\n",
       "      <th>NumRadicalElectrons</th>\n",
       "      <th>...</th>\n",
       "      <th>fr_sulfide</th>\n",
       "      <th>fr_sulfonamd</th>\n",
       "      <th>fr_sulfone</th>\n",
       "      <th>fr_term_acetylene</th>\n",
       "      <th>fr_tetrazole</th>\n",
       "      <th>fr_thiazole</th>\n",
       "      <th>fr_thiocyan</th>\n",
       "      <th>fr_thiophene</th>\n",
       "      <th>fr_unbrch_alkane</th>\n",
       "      <th>fr_urea</th>\n",
       "    </tr>\n",
       "  </thead>\n",
       "  <tbody>\n",
       "    <tr>\n",
       "      <th>0</th>\n",
       "      <td>124897762</td>\n",
       "      <td>CN(C)C1=CC=C(C=C1)/C=C/C2=CN=CC3=CC=CC=C32</td>\n",
       "      <td>0.0</td>\n",
       "      <td>0.0</td>\n",
       "      <td>0.0</td>\n",
       "      <td>0.0</td>\n",
       "      <td>0.0</td>\n",
       "      <td>0.0</td>\n",
       "      <td>0.0</td>\n",
       "      <td>0.0</td>\n",
       "      <td>...</td>\n",
       "      <td>0.0</td>\n",
       "      <td>0.0</td>\n",
       "      <td>0.0</td>\n",
       "      <td>0.0</td>\n",
       "      <td>0.0</td>\n",
       "      <td>0.0</td>\n",
       "      <td>0.0</td>\n",
       "      <td>0.0</td>\n",
       "      <td>0.0</td>\n",
       "      <td>0.0</td>\n",
       "    </tr>\n",
       "    <tr>\n",
       "      <th>1</th>\n",
       "      <td>124897061</td>\n",
       "      <td>C1=CC=C2C(C=CC2=C1)C3=CC=C(C=C3)Br</td>\n",
       "      <td>0.0</td>\n",
       "      <td>0.0</td>\n",
       "      <td>0.0</td>\n",
       "      <td>0.0</td>\n",
       "      <td>0.0</td>\n",
       "      <td>0.0</td>\n",
       "      <td>0.0</td>\n",
       "      <td>0.0</td>\n",
       "      <td>...</td>\n",
       "      <td>0.0</td>\n",
       "      <td>0.0</td>\n",
       "      <td>0.0</td>\n",
       "      <td>0.0</td>\n",
       "      <td>0.0</td>\n",
       "      <td>0.0</td>\n",
       "      <td>0.0</td>\n",
       "      <td>0.0</td>\n",
       "      <td>0.0</td>\n",
       "      <td>0.0</td>\n",
       "    </tr>\n",
       "    <tr>\n",
       "      <th>2</th>\n",
       "      <td>124895798</td>\n",
       "      <td>CN(C)C1=CC(=C(C=C1)/C=C/C2=CC=NC3=CC=CC=C23)N</td>\n",
       "      <td>0.0</td>\n",
       "      <td>0.0</td>\n",
       "      <td>0.0</td>\n",
       "      <td>0.0</td>\n",
       "      <td>0.0</td>\n",
       "      <td>0.0</td>\n",
       "      <td>0.0</td>\n",
       "      <td>0.0</td>\n",
       "      <td>...</td>\n",
       "      <td>0.0</td>\n",
       "      <td>0.0</td>\n",
       "      <td>0.0</td>\n",
       "      <td>0.0</td>\n",
       "      <td>0.0</td>\n",
       "      <td>0.0</td>\n",
       "      <td>0.0</td>\n",
       "      <td>0.0</td>\n",
       "      <td>0.0</td>\n",
       "      <td>0.0</td>\n",
       "    </tr>\n",
       "    <tr>\n",
       "      <th>3</th>\n",
       "      <td>124882850</td>\n",
       "      <td>C1=CC=C(C=C1)C2=CC(=O)C3=C(C(=C(C=C3O2)O)O)O</td>\n",
       "      <td>0.0</td>\n",
       "      <td>0.0</td>\n",
       "      <td>0.0</td>\n",
       "      <td>0.0</td>\n",
       "      <td>0.0</td>\n",
       "      <td>0.0</td>\n",
       "      <td>0.0</td>\n",
       "      <td>0.0</td>\n",
       "      <td>...</td>\n",
       "      <td>0.0</td>\n",
       "      <td>0.0</td>\n",
       "      <td>0.0</td>\n",
       "      <td>0.0</td>\n",
       "      <td>0.0</td>\n",
       "      <td>0.0</td>\n",
       "      <td>0.0</td>\n",
       "      <td>0.0</td>\n",
       "      <td>0.0</td>\n",
       "      <td>0.0</td>\n",
       "    </tr>\n",
       "    <tr>\n",
       "      <th>4</th>\n",
       "      <td>124755697</td>\n",
       "      <td>COC1=CC=C(C=C1)C2=C(C3=C(O2)CCCC3OCCCO)C(=O)OCCO</td>\n",
       "      <td>0.0</td>\n",
       "      <td>0.0</td>\n",
       "      <td>0.0</td>\n",
       "      <td>0.0</td>\n",
       "      <td>0.0</td>\n",
       "      <td>0.0</td>\n",
       "      <td>0.0</td>\n",
       "      <td>0.0</td>\n",
       "      <td>...</td>\n",
       "      <td>0.0</td>\n",
       "      <td>0.0</td>\n",
       "      <td>0.0</td>\n",
       "      <td>0.0</td>\n",
       "      <td>0.0</td>\n",
       "      <td>0.0</td>\n",
       "      <td>0.0</td>\n",
       "      <td>0.0</td>\n",
       "      <td>0.0</td>\n",
       "      <td>0.0</td>\n",
       "    </tr>\n",
       "  </tbody>\n",
       "</table>\n",
       "<p>5 rows × 202 columns</p>\n",
       "</div>"
      ],
      "text/plain": [
       "      molSID                                           chemStr  \\\n",
       "0  124897762        CN(C)C1=CC=C(C=C1)/C=C/C2=CN=CC3=CC=CC=C32   \n",
       "1  124897061                C1=CC=C2C(C=CC2=C1)C3=CC=C(C=C3)Br   \n",
       "2  124895798     CN(C)C1=CC(=C(C=C1)/C=C/C2=CC=NC3=CC=CC=C23)N   \n",
       "3  124882850      C1=CC=C(C=C1)C2=CC(=O)C3=C(C(=C(C=C3O2)O)O)O   \n",
       "4  124755697  COC1=CC=C(C=C1)C2=C(C3=C(O2)CCCC3OCCCO)C(=O)OCCO   \n",
       "\n",
       "   NumValenceElectrons  MaxAbsPartialCharge  MaxEStateIndex  \\\n",
       "0                  0.0                  0.0             0.0   \n",
       "1                  0.0                  0.0             0.0   \n",
       "2                  0.0                  0.0             0.0   \n",
       "3                  0.0                  0.0             0.0   \n",
       "4                  0.0                  0.0             0.0   \n",
       "\n",
       "   MaxAbsEStateIndex  MinEStateIndex  MaxPartialCharge  MinAbsEStateIndex  \\\n",
       "0                0.0             0.0               0.0                0.0   \n",
       "1                0.0             0.0               0.0                0.0   \n",
       "2                0.0             0.0               0.0                0.0   \n",
       "3                0.0             0.0               0.0                0.0   \n",
       "4                0.0             0.0               0.0                0.0   \n",
       "\n",
       "   NumRadicalElectrons   ...     fr_sulfide  fr_sulfonamd  fr_sulfone  \\\n",
       "0                  0.0   ...            0.0           0.0         0.0   \n",
       "1                  0.0   ...            0.0           0.0         0.0   \n",
       "2                  0.0   ...            0.0           0.0         0.0   \n",
       "3                  0.0   ...            0.0           0.0         0.0   \n",
       "4                  0.0   ...            0.0           0.0         0.0   \n",
       "\n",
       "   fr_term_acetylene  fr_tetrazole  fr_thiazole  fr_thiocyan  fr_thiophene  \\\n",
       "0                0.0           0.0          0.0          0.0           0.0   \n",
       "1                0.0           0.0          0.0          0.0           0.0   \n",
       "2                0.0           0.0          0.0          0.0           0.0   \n",
       "3                0.0           0.0          0.0          0.0           0.0   \n",
       "4                0.0           0.0          0.0          0.0           0.0   \n",
       "\n",
       "   fr_unbrch_alkane  fr_urea  \n",
       "0               0.0      0.0  \n",
       "1               0.0      0.0  \n",
       "2               0.0      0.0  \n",
       "3               0.0      0.0  \n",
       "4               0.0      0.0  \n",
       "\n",
       "[5 rows x 202 columns]"
      ]
     },
     "execution_count": 14,
     "metadata": {},
     "output_type": "execute_result"
    }
   ],
   "source": [
    "dM.head()"
   ]
  },
  {
   "cell_type": "code",
   "execution_count": 15,
   "metadata": {
    "collapsed": false
   },
   "outputs": [],
   "source": [
    "# to make the code easier readable we create lists of the chemical structures and the mol SIDs\n",
    "chemStr = dM.chemStr.values\n",
    "molSID = dM.molSID.values\n"
   ]
  },
  {
   "cell_type": "markdown",
   "metadata": {},
   "source": [
    "# Multiprocessing module\n",
    "\n",
    "The multiprocessing need careful consideration of how to distribute the data across the cores. The way the multiprocessing module works is by copying the method and a partition of the input data to each core. Thus interdependent calculations will need careful architecture and memory sharing. "
   ]
  },
  {
   "cell_type": "code",
   "execution_count": 16,
   "metadata": {
    "collapsed": true
   },
   "outputs": [],
   "source": [
    "# The simpleCalcDesc method is designed to take the least amount of information, \n",
    "# which is only the moSIDs.\n",
    "def simpleCalcDesc(molSID):\n",
    "    # Lookup in the descriptor matrix and get the chemical structure for the specific molSID\n",
    "    # This way we avoid comparing chemical structures where the information entropy is higher,\n",
    "    # than the molSIDs, which could result in longer runtime.\n",
    "    chemStr = dM.chemStr.values[dM.molSID==molSID][0]\n",
    "    # create Chem molecule from smiles structure.\n",
    "    m= Chem.MolFromSmiles(chemStr)\n",
    "    # Iterate over descriptor calculation methods and compute the descriptor for the chemical structure.\n",
    "    for idx,val in enumerate(descList): \n",
    "        # the getattr method is necessary in order to swich between the descriptor-class' methods \n",
    "        # the alternative would be e.g. Descriptors.MinEStateIndex(m) but the python compiler\n",
    "        # need to know if the descriptor calculator is a string or if it needs to be executed.\n",
    "        tempDescVal = getattr(Descriptors,val)(m)    \n",
    "        # Update the value in the descriptor matrix with the calculated descriptor.\n",
    "        dM.loc[dM.molSID == molSID, val] = tempDescVal\n",
    "    return dM        "
   ]
  },
  {
   "cell_type": "code",
   "execution_count": 17,
   "metadata": {
    "collapsed": false
   },
   "outputs": [],
   "source": [
    "# This is a simple method for running the simpleCalcDesc method with the molSIDs computed above.\n",
    "# The amount of available cores can be found by mp.cpu_count(). \n",
    "def runParallelProcessing(nCores,void):\n",
    "    start = time.time()\n",
    "    # The pool method creates a specified amount of cores which the workload will be distributed to.\n",
    "    pool = mp.Pool(nCores)\n",
    "    \n",
    "    # Map distributes the method and data to each of the cores in the pool.\n",
    "    result = pool.map(simpleCalcDesc,molSID)\n",
    "\n",
    "    end = time.time()\n",
    "    # Close and join pool of cores\n",
    "    pool.close()\n",
    "    pool.join()\n",
    "    print(\"time to complete: \", end-start, \" seconds\")\n",
    "    \n",
    "    # If void don't return result array.\n",
    "    if(void==True):\n",
    "        return \n",
    "    \n",
    "    return result"
   ]
  },
  {
   "cell_type": "code",
   "execution_count": 18,
   "metadata": {
    "collapsed": false
   },
   "outputs": [
    {
     "name": "stdout",
     "output_type": "stream",
     "text": [
      "time to complete:  148.91927909851074  seconds\n"
     ]
    }
   ],
   "source": [
    "# Run multiprocessing module with 8 cores\n",
    "result = runParallelProcessing(8,False)"
   ]
  },
  {
   "cell_type": "code",
   "execution_count": 19,
   "metadata": {
    "collapsed": false
   },
   "outputs": [
    {
     "name": "stdout",
     "output_type": "stream",
     "text": [
      "time to complete:  154.37864708900452  seconds\n"
     ]
    }
   ],
   "source": [
    "# Run multiprocessing module with 6 cores\n",
    "runParallelProcessing(6,True)"
   ]
  },
  {
   "cell_type": "code",
   "execution_count": 20,
   "metadata": {
    "collapsed": false
   },
   "outputs": [
    {
     "name": "stdout",
     "output_type": "stream",
     "text": [
      "time to complete:  159.6068229675293  seconds\n"
     ]
    }
   ],
   "source": [
    "# Run multiprocessing module with 4 cores\n",
    "runParallelProcessing(4,True)"
   ]
  },
  {
   "cell_type": "code",
   "execution_count": 21,
   "metadata": {
    "collapsed": false
   },
   "outputs": [
    {
     "name": "stdout",
     "output_type": "stream",
     "text": [
      "time to complete:  253.78030800819397  seconds\n"
     ]
    }
   ],
   "source": [
    "# Run multiprocessing module with 2 cores\n",
    "runParallelProcessing(2,True)"
   ]
  },
  {
   "cell_type": "code",
   "execution_count": 22,
   "metadata": {
    "collapsed": false
   },
   "outputs": [
    {
     "name": "stdout",
     "output_type": "stream",
     "text": [
      "time to complete:  458.5400581359863  seconds\n"
     ]
    }
   ],
   "source": [
    "# Run multiprocessing module with 1 cores\n",
    "runParallelProcessing(1,True)"
   ]
  },
  {
   "cell_type": "markdown",
   "metadata": {},
   "source": [
    "# Reduce mapping output from parallel processing\n",
    "\n",
    "Because the tasks have been spread out over multiple cores the result that returns is in fragments from each core, thus we have to combine the fragments in the process of reducing. \n",
    "\n",
    "Each core has its own memory allocation and during the mapping process the memory is a snapshot of the variables. There are ways to implement memory sharing but I haven't been able to get that working, therefore I will have to slice the results matrix in the following way."
   ]
  },
  {
   "cell_type": "code",
   "execution_count": 24,
   "metadata": {
    "collapsed": false
   },
   "outputs": [],
   "source": [
    "descriptorMatrix = pd.DataFrame()\n",
    "\n",
    "# iterate over each of the result matrices returned by the pool of cores.\n",
    "# The result matrix is a 1050 structure where each entry contains the computed descriptor values\n",
    "# for one molSID.\n",
    "for i in range(len(result)):\n",
    "    # because each core has been assigned one molecule per return matrix,\n",
    "    # we can simply select the same row of the index of that particular resultmatrix.\n",
    "    temp = pd.DataFrame(result[i].iloc[i]).T\n",
    "    # Append to final descriptor matrix\n",
    "    descriptorMatrix = temp.append(descriptorMatrix)\n",
    "    \n",
    "descriptorMatrix = descriptorMatrix.sort_index()"
   ]
  },
  {
   "cell_type": "code",
   "execution_count": 25,
   "metadata": {
    "collapsed": false
   },
   "outputs": [
    {
     "data": {
      "text/html": [
       "<div>\n",
       "<style scoped>\n",
       "    .dataframe tbody tr th:only-of-type {\n",
       "        vertical-align: middle;\n",
       "    }\n",
       "\n",
       "    .dataframe tbody tr th {\n",
       "        vertical-align: top;\n",
       "    }\n",
       "\n",
       "    .dataframe thead th {\n",
       "        text-align: right;\n",
       "    }\n",
       "</style>\n",
       "<table border=\"1\" class=\"dataframe\">\n",
       "  <thead>\n",
       "    <tr style=\"text-align: right;\">\n",
       "      <th></th>\n",
       "      <th>molSID</th>\n",
       "      <th>chemStr</th>\n",
       "      <th>NumValenceElectrons</th>\n",
       "      <th>MaxAbsPartialCharge</th>\n",
       "      <th>MaxEStateIndex</th>\n",
       "      <th>MaxAbsEStateIndex</th>\n",
       "      <th>MinEStateIndex</th>\n",
       "      <th>MaxPartialCharge</th>\n",
       "      <th>MinAbsEStateIndex</th>\n",
       "      <th>NumRadicalElectrons</th>\n",
       "      <th>...</th>\n",
       "      <th>fr_sulfide</th>\n",
       "      <th>fr_sulfonamd</th>\n",
       "      <th>fr_sulfone</th>\n",
       "      <th>fr_term_acetylene</th>\n",
       "      <th>fr_tetrazole</th>\n",
       "      <th>fr_thiazole</th>\n",
       "      <th>fr_thiocyan</th>\n",
       "      <th>fr_thiophene</th>\n",
       "      <th>fr_unbrch_alkane</th>\n",
       "      <th>fr_urea</th>\n",
       "    </tr>\n",
       "  </thead>\n",
       "  <tbody>\n",
       "    <tr>\n",
       "      <th>0</th>\n",
       "      <td>124897762</td>\n",
       "      <td>CN(C)C1=CC=C(C=C1)/C=C/C2=CN=CC3=CC=CC=C32</td>\n",
       "      <td>104</td>\n",
       "      <td>0.377661</td>\n",
       "      <td>4.3045</td>\n",
       "      <td>4.3045</td>\n",
       "      <td>1.14332</td>\n",
       "      <td>0.0360916</td>\n",
       "      <td>1.14332</td>\n",
       "      <td>0</td>\n",
       "      <td>...</td>\n",
       "      <td>0</td>\n",
       "      <td>0</td>\n",
       "      <td>0</td>\n",
       "      <td>0</td>\n",
       "      <td>0</td>\n",
       "      <td>0</td>\n",
       "      <td>0</td>\n",
       "      <td>0</td>\n",
       "      <td>0</td>\n",
       "      <td>0</td>\n",
       "    </tr>\n",
       "    <tr>\n",
       "      <th>1</th>\n",
       "      <td>124897061</td>\n",
       "      <td>C1=CC=C2C(C=CC2=C1)C3=CC=C(C=C3)Br</td>\n",
       "      <td>78</td>\n",
       "      <td>0.0720204</td>\n",
       "      <td>3.46773</td>\n",
       "      <td>3.46773</td>\n",
       "      <td>0.420648</td>\n",
       "      <td>0.0278259</td>\n",
       "      <td>0.420648</td>\n",
       "      <td>0</td>\n",
       "      <td>...</td>\n",
       "      <td>0</td>\n",
       "      <td>0</td>\n",
       "      <td>0</td>\n",
       "      <td>0</td>\n",
       "      <td>0</td>\n",
       "      <td>0</td>\n",
       "      <td>0</td>\n",
       "      <td>0</td>\n",
       "      <td>0</td>\n",
       "      <td>0</td>\n",
       "    </tr>\n",
       "    <tr>\n",
       "      <th>2</th>\n",
       "      <td>124895798</td>\n",
       "      <td>CN(C)C1=CC(=C(C=C1)/C=C/C2=CC=NC3=CC=CC=C23)N</td>\n",
       "      <td>110</td>\n",
       "      <td>0.398182</td>\n",
       "      <td>6.1457</td>\n",
       "      <td>6.1457</td>\n",
       "      <td>0.778529</td>\n",
       "      <td>0.0707469</td>\n",
       "      <td>0.778529</td>\n",
       "      <td>0</td>\n",
       "      <td>...</td>\n",
       "      <td>0</td>\n",
       "      <td>0</td>\n",
       "      <td>0</td>\n",
       "      <td>0</td>\n",
       "      <td>0</td>\n",
       "      <td>0</td>\n",
       "      <td>0</td>\n",
       "      <td>0</td>\n",
       "      <td>0</td>\n",
       "      <td>0</td>\n",
       "    </tr>\n",
       "    <tr>\n",
       "      <th>3</th>\n",
       "      <td>124882850</td>\n",
       "      <td>C1=CC=C(C=C1)C2=CC(=O)C3=C(C(=C(C=C3O2)O)O)O</td>\n",
       "      <td>100</td>\n",
       "      <td>0.504068</td>\n",
       "      <td>12.0445</td>\n",
       "      <td>12.0445</td>\n",
       "      <td>-0.738647</td>\n",
       "      <td>0.20085</td>\n",
       "      <td>0.00384543</td>\n",
       "      <td>0</td>\n",
       "      <td>...</td>\n",
       "      <td>0</td>\n",
       "      <td>0</td>\n",
       "      <td>0</td>\n",
       "      <td>0</td>\n",
       "      <td>0</td>\n",
       "      <td>0</td>\n",
       "      <td>0</td>\n",
       "      <td>0</td>\n",
       "      <td>0</td>\n",
       "      <td>0</td>\n",
       "    </tr>\n",
       "    <tr>\n",
       "      <th>4</th>\n",
       "      <td>124755697</td>\n",
       "      <td>COC1=CC=C(C=C1)C2=C(C3=C(O2)CCCC3OCCCO)C(=O)OCCO</td>\n",
       "      <td>152</td>\n",
       "      <td>0.496768</td>\n",
       "      <td>12.8159</td>\n",
       "      <td>12.8159</td>\n",
       "      <td>-0.539328</td>\n",
       "      <td>0.342067</td>\n",
       "      <td>0.0490686</td>\n",
       "      <td>0</td>\n",
       "      <td>...</td>\n",
       "      <td>0</td>\n",
       "      <td>0</td>\n",
       "      <td>0</td>\n",
       "      <td>0</td>\n",
       "      <td>0</td>\n",
       "      <td>0</td>\n",
       "      <td>0</td>\n",
       "      <td>0</td>\n",
       "      <td>1</td>\n",
       "      <td>0</td>\n",
       "    </tr>\n",
       "  </tbody>\n",
       "</table>\n",
       "<p>5 rows × 202 columns</p>\n",
       "</div>"
      ],
      "text/plain": [
       "      molSID                                           chemStr  \\\n",
       "0  124897762        CN(C)C1=CC=C(C=C1)/C=C/C2=CN=CC3=CC=CC=C32   \n",
       "1  124897061                C1=CC=C2C(C=CC2=C1)C3=CC=C(C=C3)Br   \n",
       "2  124895798     CN(C)C1=CC(=C(C=C1)/C=C/C2=CC=NC3=CC=CC=C23)N   \n",
       "3  124882850      C1=CC=C(C=C1)C2=CC(=O)C3=C(C(=C(C=C3O2)O)O)O   \n",
       "4  124755697  COC1=CC=C(C=C1)C2=C(C3=C(O2)CCCC3OCCCO)C(=O)OCCO   \n",
       "\n",
       "  NumValenceElectrons MaxAbsPartialCharge MaxEStateIndex MaxAbsEStateIndex  \\\n",
       "0                 104            0.377661         4.3045            4.3045   \n",
       "1                  78           0.0720204        3.46773           3.46773   \n",
       "2                 110            0.398182         6.1457            6.1457   \n",
       "3                 100            0.504068        12.0445           12.0445   \n",
       "4                 152            0.496768        12.8159           12.8159   \n",
       "\n",
       "  MinEStateIndex MaxPartialCharge MinAbsEStateIndex NumRadicalElectrons  \\\n",
       "0        1.14332        0.0360916           1.14332                   0   \n",
       "1       0.420648        0.0278259          0.420648                   0   \n",
       "2       0.778529        0.0707469          0.778529                   0   \n",
       "3      -0.738647          0.20085        0.00384543                   0   \n",
       "4      -0.539328         0.342067         0.0490686                   0   \n",
       "\n",
       "    ...   fr_sulfide fr_sulfonamd fr_sulfone fr_term_acetylene fr_tetrazole  \\\n",
       "0   ...            0            0          0                 0            0   \n",
       "1   ...            0            0          0                 0            0   \n",
       "2   ...            0            0          0                 0            0   \n",
       "3   ...            0            0          0                 0            0   \n",
       "4   ...            0            0          0                 0            0   \n",
       "\n",
       "  fr_thiazole fr_thiocyan fr_thiophene fr_unbrch_alkane fr_urea  \n",
       "0           0           0            0                0       0  \n",
       "1           0           0            0                0       0  \n",
       "2           0           0            0                0       0  \n",
       "3           0           0            0                0       0  \n",
       "4           0           0            0                1       0  \n",
       "\n",
       "[5 rows x 202 columns]"
      ]
     },
     "execution_count": 25,
     "metadata": {},
     "output_type": "execute_result"
    }
   ],
   "source": [
    "descriptorMatrix.head()"
   ]
  },
  {
   "cell_type": "markdown",
   "metadata": {},
   "source": [
    "# Conclusion\n",
    "\n",
    "Following plot clearly shows the nature of compute time and parallelisation."
   ]
  },
  {
   "cell_type": "code",
   "execution_count": 31,
   "metadata": {
    "collapsed": false
   },
   "outputs": [
    {
     "data": {
      "image/png": "[encoded data removed]",
      "text/plain": [
       "<Figure size 432x288 with 1 Axes>"
      ]
     },
     "metadata": {},
     "output_type": "display_data"
    }
   ],
   "source": [
    "plt.plot([1,2,4,6,8],[459,254,160,154,149])\n",
    "plt.xlabel('Cores')\n",
    "plt.ylabel('Seconds')\n",
    "plt.show()"
   ]
  },
  {
   "cell_type": "markdown",
   "metadata": {
    "collapsed": true
   },
   "source": [
    "# Possible future leads\n",
    "\n",
    "This section covers aspects that could be interesting to pursuit in the future so I have decided to keep it in the notebook. The three main leads are:\n",
    "1. queuing output files to reduce output of parallel processes\n",
    "2. Parallelising full descriptor dataframe instead of sending individual molecule ids, the idea is to split the dataframe in parts and send the parts to each of the cores.\n",
    "3. Sharing memory space of cores with pipes. "
   ]
  },
  {
   "cell_type": "code",
   "execution_count": null,
   "metadata": {
    "collapsed": false
   },
   "outputs": [],
   "source": [
    "output = mp.Queue()\n",
    "mp.cpu_count()"
   ]
  },
  {
   "cell_type": "code",
   "execution_count": null,
   "metadata": {
    "collapsed": false
   },
   "outputs": [],
   "source": [
    "def calculateDescriptor(descriptor, chemStr,molSID):\n",
    "    for idx,val in enumerate(molSID):\n",
    "        m= Chem.MolFromSmiles(chemStr[idx])\n",
    "        descVal = Descriptors.MaxAbsPartialCharge(m)\n",
    "        dM.loc[dM.molSID == val, descriptor] = descVal\n"
   ]
  },
  {
   "cell_type": "code",
   "execution_count": null,
   "metadata": {
    "collapsed": true
   },
   "outputs": [],
   "source": [
    "def parallelize_dataframe(df, func):\n",
    "    df_split = np.array_split(df, num_partitions)\n",
    "    pool = Pool(num_cores)\n",
    "    df = pd.concat(pool.map(func, df_split))\n",
    "    pool.close()\n",
    "    pool.join()\n",
    "    return df"
   ]
  },
  {
   "cell_type": "code",
   "execution_count": null,
   "metadata": {
    "collapsed": false
   },
   "outputs": [],
   "source": [
    "result = parallelize_dataframe(exDescM,calculateDescriptors)"
   ]
  },
  {
   "cell_type": "code",
   "execution_count": null,
   "metadata": {
    "collapsed": false
   },
   "outputs": [],
   "source": [
    "for idx,val in enumerate(smallSmilesData.chemStruc.values):\n",
    "    m = Chem.MolFromSmiles(val)\n",
    "    descriptor = descList[idx]\n",
    "    tempDescVal = getattr(Descriptors,descriptor)(m)\n",
    "    print(tempDescVal)\n",
    "    break"
   ]
  },
  {
   "cell_type": "code",
   "execution_count": null,
   "metadata": {
    "collapsed": false
   },
   "outputs": [],
   "source": [
    "descriptorsMatrix = pd.DataFrame(np.zeros([len(smallSmilesData),len(descList)]))\n",
    "descriptorsMatrix.columns = descList\n",
    "descriptorsMatrix.insert(loc=0, column=\"molSID\",value = smallSmilesData.molSID.values)"
   ]
  },
  {
   "cell_type": "markdown",
   "metadata": {},
   "source": [
    "# Mini dataframe\n"
   ]
  },
  {
   "cell_type": "code",
   "execution_count": null,
   "metadata": {
    "collapsed": false
   },
   "outputs": [],
   "source": [
    "extraSmallData = smallSmilesData[:5]"
   ]
  },
  {
   "cell_type": "code",
   "execution_count": null,
   "metadata": {
    "collapsed": false
   },
   "outputs": [],
   "source": [
    "exDescM = pd.DataFrame(np.zeros([len(extraSmallData),len(descList)]))\n",
    "exDescM.columns = descList\n",
    "exDescM.insert(loc=0, column=\"molSID\",value = extraSmallData.molSID.values)\n",
    "exDescM.insert(loc=1, column=\"chemStr\",value = extraSmallData.chemStruc.values)"
   ]
  },
  {
   "cell_type": "code",
   "execution_count": null,
   "metadata": {
    "collapsed": false,
    "scrolled": true
   },
   "outputs": [],
   "source": [
    "exDescM"
   ]
  },
  {
   "cell_type": "markdown",
   "metadata": {},
   "source": [
    "# mini end\n",
    "\n",
    "# method for calculating descriptors for full matrix"
   ]
  },
  {
   "cell_type": "code",
   "execution_count": null,
   "metadata": {
    "collapsed": true
   },
   "outputs": [],
   "source": [
    "def calculateDescriptors(descriptorsMatrix):\n",
    "    descList = list(descriptorsMatrix.columns.values)\n",
    "    descList.remove('molSID')\n",
    "    descList.remove('chemStruc')\n",
    "    chemStruc = exDescM.chemStruc.values\n",
    "    for i, mol in enumerate(descriptorsMatrix.molSID):\n",
    "        m= Chem.MolFromSmiles(chemStruc[i])\n",
    "        for idx, val in enumerate(descList): \n",
    "            descriptor = descList[idx]\n",
    "            tempDescVal = getattr(Descriptors,descriptor)(m)\n",
    "            descriptorsMatrix.loc[descriptorsMatrix.molSID == mol , descriptor] = tempDescVal "
   ]
  }
 ],
 "metadata": {
  "anaconda-cloud": {},
  "kernelspec": {
   "display_name": "Python [conda env:anaconda3]",
   "language": "python",
   "name": "conda-env-anaconda3-py"
  },
  "language_info": {
   "codemirror_mode": {
    "name": "ipython",
    "version": 3
   },
   "file_extension": ".py",
   "mimetype": "text/x-python",
   "name": "python",
   "nbconvert_exporter": "python",
   "pygments_lexer": "ipython3",
   "version": "3.5.2"
  }
 },
 "nbformat": 4,
 "nbformat_minor": 1
}
