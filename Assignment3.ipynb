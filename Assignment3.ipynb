{
 "cells": [
  {
   "cell_type": "code",
   "execution_count": 50,
   "metadata": {
    "collapsed": false
   },
   "outputs": [],
   "source": [
    "import pandas as pd\n",
    "from rdkit import Chem"
   ]
  },
  {
   "cell_type": "code",
   "execution_count": 51,
   "metadata": {
    "collapsed": false
   },
   "outputs": [
    {
     "name": "stderr",
     "output_type": "stream",
     "text": [
      "/Users/daraakdag/anaconda3/lib/python3.5/site-packages/IPython/core/interactiveshell.py:2717: DtypeWarning: Columns (0,8,9,10,11,13,14,15,16,17,18,20,21,22,23,24,25,26,27,28,29,30,31,32,33,34,35,36,37,38,39,40,41,42) have mixed types. Specify dtype option on import or set low_memory=False.\n",
      "  interactivity=interactivity, compiler=compiler, result=result)\n"
     ]
    }
   ],
   "source": [
    "data = pd.read_csv(\"data.csv\");"
   ]
  },
  {
   "cell_type": "code",
   "execution_count": 52,
   "metadata": {
    "collapsed": false
   },
   "outputs": [],
   "source": [
    "descriptors = pd.read_csv(\"descriptors.csv\");"
   ]
  },
  {
   "cell_type": "code",
   "execution_count": 53,
   "metadata": {
    "collapsed": false
   },
   "outputs": [
    {
     "data": {
      "text/html": [
       "<div>\n",
       "<style scoped>\n",
       "    .dataframe tbody tr th:only-of-type {\n",
       "        vertical-align: middle;\n",
       "    }\n",
       "\n",
       "    .dataframe tbody tr th {\n",
       "        vertical-align: top;\n",
       "    }\n",
       "\n",
       "    .dataframe thead th {\n",
       "        text-align: right;\n",
       "    }\n",
       "</style>\n",
       "<table border=\"1\" class=\"dataframe\">\n",
       "  <thead>\n",
       "    <tr style=\"text-align: right;\">\n",
       "      <th></th>\n",
       "      <th>PUBCHEM_RESULT_TAG</th>\n",
       "      <th>PUBCHEM_SID</th>\n",
       "      <th>PUBCHEM_CID</th>\n",
       "      <th>PUBCHEM_ACTIVITY_OUTCOME</th>\n",
       "      <th>PUBCHEM_ACTIVITY_SCORE</th>\n",
       "      <th>PUBCHEM_ACTIVITY_URL</th>\n",
       "      <th>PUBCHEM_ASSAYDATA_COMMENT</th>\n",
       "      <th>Phenotype</th>\n",
       "      <th>Potency</th>\n",
       "      <th>Efficacy</th>\n",
       "      <th>...</th>\n",
       "      <th>brca1-p1_activity-Activity at 4.610 uM</th>\n",
       "      <th>brca1-p1_activity-Activity at 6.450 uM</th>\n",
       "      <th>brca1-p1_activity-Activity at 9.218 uM</th>\n",
       "      <th>brca1-p1_activity-Activity at 12.69 uM</th>\n",
       "      <th>brca1-p1_activity-Activity at 18.70 uM</th>\n",
       "      <th>brca1-p1_activity-Activity at 36.87 uM</th>\n",
       "      <th>brca1-p1_activity-Activity at 46.10 uM</th>\n",
       "      <th>brca1-p1_activity-Activity at 64.71 uM</th>\n",
       "      <th>brca1-p1_activity-Activity at 92.20 uM</th>\n",
       "      <th>Compound QC</th>\n",
       "    </tr>\n",
       "  </thead>\n",
       "  <tbody>\n",
       "    <tr>\n",
       "      <th>0</th>\n",
       "      <td>RESULT_TYPE</td>\n",
       "      <td>NaN</td>\n",
       "      <td>NaN</td>\n",
       "      <td>NaN</td>\n",
       "      <td>NaN</td>\n",
       "      <td>NaN</td>\n",
       "      <td>NaN</td>\n",
       "      <td>STRING</td>\n",
       "      <td>FLOAT</td>\n",
       "      <td>FLOAT</td>\n",
       "      <td>...</td>\n",
       "      <td>FLOAT</td>\n",
       "      <td>FLOAT</td>\n",
       "      <td>FLOAT</td>\n",
       "      <td>FLOAT</td>\n",
       "      <td>FLOAT</td>\n",
       "      <td>FLOAT</td>\n",
       "      <td>FLOAT</td>\n",
       "      <td>FLOAT</td>\n",
       "      <td>FLOAT</td>\n",
       "      <td>STRING</td>\n",
       "    </tr>\n",
       "    <tr>\n",
       "      <th>1</th>\n",
       "      <td>RESULT_DESCR</td>\n",
       "      <td>NaN</td>\n",
       "      <td>NaN</td>\n",
       "      <td>NaN</td>\n",
       "      <td>NaN</td>\n",
       "      <td>NaN</td>\n",
       "      <td>NaN</td>\n",
       "      <td>Indicates type of activity observed: inhibitor, activator, fluorescent, cytotoxic, inactive, or inconclusive.</td>\n",
       "      <td>Concentration at which compound exhibits half-maximal efficacy, AC50. Extrapolated AC50s also include the highest efficacy observed and the concentration of compound at which it was observed.</td>\n",
       "      <td>Maximal efficacy of compound, reported as a percentage of control. These values are estimated based on fits of the Hill equation to the dose-response curves.</td>\n",
       "      <td>...</td>\n",
       "      <td>% Activity at given concentration.</td>\n",
       "      <td>% Activity at given concentration.</td>\n",
       "      <td>% Activity at given concentration.</td>\n",
       "      <td>% Activity at given concentration.</td>\n",
       "      <td>% Activity at given concentration.</td>\n",
       "      <td>% Activity at given concentration.</td>\n",
       "      <td>% Activity at given concentration.</td>\n",
       "      <td>% Activity at given concentration.</td>\n",
       "      <td>% Activity at given concentration.</td>\n",
       "      <td>NCGC designation for data stage: 'qHTS', 'qHTS Verification', 'Secondary Profiling'</td>\n",
       "    </tr>\n",
       "    <tr>\n",
       "      <th>2</th>\n",
       "      <td>RESULT_UNIT</td>\n",
       "      <td>NaN</td>\n",
       "      <td>NaN</td>\n",
       "      <td>NaN</td>\n",
       "      <td>NaN</td>\n",
       "      <td>NaN</td>\n",
       "      <td>NaN</td>\n",
       "      <td>NONE</td>\n",
       "      <td>MICROMOLAR</td>\n",
       "      <td>PERCENT</td>\n",
       "      <td>...</td>\n",
       "      <td>PERCENT</td>\n",
       "      <td>PERCENT</td>\n",
       "      <td>PERCENT</td>\n",
       "      <td>PERCENT</td>\n",
       "      <td>PERCENT</td>\n",
       "      <td>PERCENT</td>\n",
       "      <td>PERCENT</td>\n",
       "      <td>PERCENT</td>\n",
       "      <td>PERCENT</td>\n",
       "      <td>NONE</td>\n",
       "    </tr>\n",
       "    <tr>\n",
       "      <th>3</th>\n",
       "      <td>RESULT_IS_ACTIVE_CONCENTRATION</td>\n",
       "      <td>NaN</td>\n",
       "      <td>NaN</td>\n",
       "      <td>NaN</td>\n",
       "      <td>NaN</td>\n",
       "      <td>NaN</td>\n",
       "      <td>NaN</td>\n",
       "      <td>NaN</td>\n",
       "      <td>TRUE</td>\n",
       "      <td>NaN</td>\n",
       "      <td>...</td>\n",
       "      <td>NaN</td>\n",
       "      <td>NaN</td>\n",
       "      <td>NaN</td>\n",
       "      <td>NaN</td>\n",
       "      <td>NaN</td>\n",
       "      <td>NaN</td>\n",
       "      <td>NaN</td>\n",
       "      <td>NaN</td>\n",
       "      <td>NaN</td>\n",
       "      <td>NaN</td>\n",
       "    </tr>\n",
       "    <tr>\n",
       "      <th>4</th>\n",
       "      <td>RESULT_ATTR_CONC_MICROMOL</td>\n",
       "      <td>NaN</td>\n",
       "      <td>NaN</td>\n",
       "      <td>NaN</td>\n",
       "      <td>NaN</td>\n",
       "      <td>NaN</td>\n",
       "      <td>NaN</td>\n",
       "      <td>NaN</td>\n",
       "      <td>NaN</td>\n",
       "      <td>NaN</td>\n",
       "      <td>...</td>\n",
       "      <td>4.61</td>\n",
       "      <td>6.45</td>\n",
       "      <td>9.21842</td>\n",
       "      <td>12.687</td>\n",
       "      <td>18.7029</td>\n",
       "      <td>36.8711</td>\n",
       "      <td>46.0969</td>\n",
       "      <td>64.715</td>\n",
       "      <td>92.2</td>\n",
       "      <td>NaN</td>\n",
       "    </tr>\n",
       "  </tbody>\n",
       "</table>\n",
       "<p>5 rows × 44 columns</p>\n",
       "</div>"
      ],
      "text/plain": [
       "               PUBCHEM_RESULT_TAG  PUBCHEM_SID  PUBCHEM_CID PUBCHEM_ACTIVITY_OUTCOME  PUBCHEM_ACTIVITY_SCORE PUBCHEM_ACTIVITY_URL  PUBCHEM_ASSAYDATA_COMMENT                                                                                                      Phenotype                                                                                                                                                                                          Potency                                                                                                                                                       Efficacy                                         ...                                          brca1-p1_activity-Activity at 4.610 uM brca1-p1_activity-Activity at 6.450 uM brca1-p1_activity-Activity at 9.218 uM brca1-p1_activity-Activity at 12.69 uM brca1-p1_activity-Activity at 18.70 uM brca1-p1_activity-Activity at 36.87 uM brca1-p1_activity-Activity at 46.10 uM brca1-p1_activity-Activity at 64.71 uM brca1-p1_activity-Activity at 92.20 uM                                                                          Compound QC\n",
       "0                     RESULT_TYPE          NaN          NaN                      NaN                     NaN                  NaN                        NaN                                                                                                         STRING                                                                                                                                                                                            FLOAT                                                                                                                                                          FLOAT                                         ...                                                                           FLOAT                                  FLOAT                                  FLOAT                                  FLOAT                                  FLOAT                                  FLOAT                                  FLOAT                                  FLOAT                                  FLOAT                                                                               STRING\n",
       "1                    RESULT_DESCR          NaN          NaN                      NaN                     NaN                  NaN                        NaN  Indicates type of activity observed: inhibitor, activator, fluorescent, cytotoxic, inactive, or inconclusive.  Concentration at which compound exhibits half-maximal efficacy, AC50. Extrapolated AC50s also include the highest efficacy observed and the concentration of compound at which it was observed.  Maximal efficacy of compound, reported as a percentage of control. These values are estimated based on fits of the Hill equation to the dose-response curves.                                         ...                                              % Activity at given concentration.     % Activity at given concentration.     % Activity at given concentration.     % Activity at given concentration.     % Activity at given concentration.     % Activity at given concentration.     % Activity at given concentration.     % Activity at given concentration.     % Activity at given concentration.  NCGC designation for data stage: 'qHTS', 'qHTS Verification', 'Secondary Profiling'\n",
       "2                     RESULT_UNIT          NaN          NaN                      NaN                     NaN                  NaN                        NaN                                                                                                           NONE                                                                                                                                                                                       MICROMOLAR                                                                                                                                                        PERCENT                                         ...                                                                         PERCENT                                PERCENT                                PERCENT                                PERCENT                                PERCENT                                PERCENT                                PERCENT                                PERCENT                                PERCENT                                                                                 NONE\n",
       "3  RESULT_IS_ACTIVE_CONCENTRATION          NaN          NaN                      NaN                     NaN                  NaN                        NaN                                                                                                            NaN                                                                                                                                                                                             TRUE                                                                                                                                                            NaN                                         ...                                                                             NaN                                    NaN                                    NaN                                    NaN                                    NaN                                    NaN                                    NaN                                    NaN                                    NaN                                                                                  NaN\n",
       "4       RESULT_ATTR_CONC_MICROMOL          NaN          NaN                      NaN                     NaN                  NaN                        NaN                                                                                                            NaN                                                                                                                                                                                              NaN                                                                                                                                                            NaN                                         ...                                                                            4.61                                   6.45                                9.21842                                 12.687                                18.7029                                36.8711                                46.0969                                 64.715                                   92.2                                                                                  NaN\n",
       "\n",
       "[5 rows x 44 columns]"
      ]
     },
     "execution_count": 53,
     "metadata": {},
     "output_type": "execute_result"
    }
   ],
   "source": [
    "data.head()"
   ]
  },
  {
   "cell_type": "code",
   "execution_count": 54,
   "metadata": {
    "collapsed": false
   },
   "outputs": [],
   "source": [
    "data = data.loc[5:,['PUBCHEM_SID','PUBCHEM_ACTIVITY_SCORE']];"
   ]
  },
  {
   "cell_type": "code",
   "execution_count": 71,
   "metadata": {
    "collapsed": false
   },
   "outputs": [
    {
     "name": "stdout",
     "output_type": "stream",
     "text": [
      "Number of inactives is  364035\n",
      "Number of actives is  13515\n"
     ]
    }
   ],
   "source": [
    "inactives= data.loc[data.PUBCHEM_ACTIVITY_SCORE==0]\n",
    "actives= data.loc[data.PUBCHEM_ACTIVITY_SCORE!=0]\n",
    "print(\"Number of inactives is \",len(inactives))\n",
    "print(\"Number of actives is \", len(actives))"
   ]
  },
  {
   "cell_type": "code",
   "execution_count": 80,
   "metadata": {
    "collapsed": false
   },
   "outputs": [],
   "source": [
    "selectedInactives = inactives.sample(350)\n",
    "selectedActives = actives.sample(700)"
   ]
  },
  {
   "cell_type": "code",
   "execution_count": 81,
   "metadata": {
    "collapsed": false
   },
   "outputs": [],
   "source": [
    "smallDataset = pd.concat([selectedInactives,selectedActives])"
   ]
  },
  {
   "cell_type": "code",
   "execution_count": 88,
   "metadata": {
    "collapsed": false
   },
   "outputs": [
    {
     "name": "stdout",
     "output_type": "stream",
     "text": [
      "Shape of small dataset is (1050, 2)\n"
     ]
    }
   ],
   "source": [
    "print(\"Shape of small dataset is\",smallDataset.shape)"
   ]
  },
  {
   "cell_type": "code",
   "execution_count": 89,
   "metadata": {
    "collapsed": false
   },
   "outputs": [
    {
     "data": {
      "text/html": [
       "<div>\n",
       "<style scoped>\n",
       "    .dataframe tbody tr th:only-of-type {\n",
       "        vertical-align: middle;\n",
       "    }\n",
       "\n",
       "    .dataframe tbody tr th {\n",
       "        vertical-align: top;\n",
       "    }\n",
       "\n",
       "    .dataframe thead th {\n",
       "        text-align: right;\n",
       "    }\n",
       "</style>\n",
       "<table border=\"1\" class=\"dataframe\">\n",
       "  <thead>\n",
       "    <tr style=\"text-align: right;\">\n",
       "      <th></th>\n",
       "      <th>PUBCHEM_SID</th>\n",
       "      <th>PUBCHEM_ACTIVITY_SCORE</th>\n",
       "    </tr>\n",
       "  </thead>\n",
       "  <tbody>\n",
       "    <tr>\n",
       "      <th>231584</th>\n",
       "      <td>47197529.0</td>\n",
       "      <td>0.0</td>\n",
       "    </tr>\n",
       "    <tr>\n",
       "      <th>375920</th>\n",
       "      <td>124879998.0</td>\n",
       "      <td>0.0</td>\n",
       "    </tr>\n",
       "    <tr>\n",
       "      <th>358318</th>\n",
       "      <td>99360986.0</td>\n",
       "      <td>0.0</td>\n",
       "    </tr>\n",
       "    <tr>\n",
       "      <th>204552</th>\n",
       "      <td>26657698.0</td>\n",
       "      <td>0.0</td>\n",
       "    </tr>\n",
       "    <tr>\n",
       "      <th>119006</th>\n",
       "      <td>22403948.0</td>\n",
       "      <td>0.0</td>\n",
       "    </tr>\n",
       "  </tbody>\n",
       "</table>\n",
       "</div>"
      ],
      "text/plain": [
       "        PUBCHEM_SID  PUBCHEM_ACTIVITY_SCORE\n",
       "231584   47197529.0                     0.0\n",
       "375920  124879998.0                     0.0\n",
       "358318   99360986.0                     0.0\n",
       "204552   26657698.0                     0.0\n",
       "119006   22403948.0                     0.0"
      ]
     },
     "execution_count": 89,
     "metadata": {},
     "output_type": "execute_result"
    }
   ],
   "source": [
    "smallDataset.head()"
   ]
  },
  {
   "cell_type": "code",
   "execution_count": null,
   "metadata": {
    "collapsed": true
   },
   "outputs": [],
   "source": []
  }
 ],
 "metadata": {
  "anaconda-cloud": {},
  "kernelspec": {
   "display_name": "Python [conda env:anaconda3]",
   "language": "python",
   "name": "conda-env-anaconda3-py"
  },
  "language_info": {
   "codemirror_mode": {
    "name": "ipython",
    "version": 3
   },
   "file_extension": ".py",
   "mimetype": "text/x-python",
   "name": "python",
   "nbconvert_exporter": "python",
   "pygments_lexer": "ipython3",
   "version": "3.5.2"
  }
 },
 "nbformat": 4,
 "nbformat_minor": 1
}
