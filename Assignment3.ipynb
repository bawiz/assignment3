{
 "cells": [
  {
   "cell_type": "code",
   "execution_count": 27,
   "metadata": {
    "collapsed": false
   },
   "outputs": [],
   "source": [
    "import numpy as np\n",
    "import pandas as pd\n",
    "from rdkit import Chem\n",
    "from rdkit.Chem import Descriptors\n",
    "import time\n",
    "from multiprocessing import Pool\n",
    "import multiprocessing as mp"
   ]
  },
  {
   "cell_type": "code",
   "execution_count": 2,
   "metadata": {
    "collapsed": false
   },
   "outputs": [],
   "source": [
    "data = pd.read_csv(\"data.csv\",low_memory=False);"
   ]
  },
  {
   "cell_type": "code",
   "execution_count": 3,
   "metadata": {
    "collapsed": false
   },
   "outputs": [],
   "source": [
    "descriptors = pd.read_csv(\"descriptors.csv\");"
   ]
  },
  {
   "cell_type": "markdown",
   "metadata": {},
   "source": [
    "# Import smiles data from txt file\n",
    "\n",
    "The simplified molecular-input line-entry system (SMILES) is a specification in form of a line notation for describing the structure of chemical species using short ASCII strings. SMILES strings can be imported by most molecule editors for conversion back into two-dimensional drawings or three-dimensional models of the molecules. The smiles data file shows the molecule ids and their respective structure. It was downloaded here:\n",
    "https://pubchem.ncbi.nlm.nih.gov/bioassay/624202#section=Top\n",
    "\n",
    "Click on the \"Download\" tab -> select \"tested substances\" -> click \"Download service\" -> Chose \"Smiles\" as format and download. "
   ]
  },
  {
   "cell_type": "code",
   "execution_count": 4,
   "metadata": {
    "collapsed": false
   },
   "outputs": [],
   "source": [
    "smilesData = pd.read_csv(\"smilesData.txt\",sep=\"\\t\", header=None);\n",
    "smilesData.columns = ['molSID','chemStruc']\n",
    "\n",
    "descList = [i[0] for i in Descriptors._descList]\n",
    "data = data.loc[5:,['PUBCHEM_SID','PUBCHEM_ACTIVITY_SCORE']];"
   ]
  },
  {
   "cell_type": "code",
   "execution_count": 6,
   "metadata": {
    "collapsed": false
   },
   "outputs": [
    {
     "name": "stdout",
     "output_type": "stream",
     "text": [
      "Number of inactives is  364035\n",
      "Number of actives is  13515\n"
     ]
    }
   ],
   "source": [
    "inactives= data.loc[data.PUBCHEM_ACTIVITY_SCORE==0]\n",
    "actives= data.loc[data.PUBCHEM_ACTIVITY_SCORE!=0]\n",
    "print(\"Number of inactives is \",len(inactives))\n",
    "print(\"Number of actives is \", len(actives))"
   ]
  },
  {
   "cell_type": "code",
   "execution_count": 7,
   "metadata": {
    "collapsed": false
   },
   "outputs": [],
   "source": [
    "selectedInactives = inactives.sample(350)\n",
    "selectedActives = actives.sample(700)\n",
    "smallDataset = pd.concat([selectedInactives,selectedActives])"
   ]
  },
  {
   "cell_type": "code",
   "execution_count": 8,
   "metadata": {
    "collapsed": false
   },
   "outputs": [
    {
     "data": {
      "text/html": [
       "<div>\n",
       "<style scoped>\n",
       "    .dataframe tbody tr th:only-of-type {\n",
       "        vertical-align: middle;\n",
       "    }\n",
       "\n",
       "    .dataframe tbody tr th {\n",
       "        vertical-align: top;\n",
       "    }\n",
       "\n",
       "    .dataframe thead th {\n",
       "        text-align: right;\n",
       "    }\n",
       "</style>\n",
       "<table border=\"1\" class=\"dataframe\">\n",
       "  <thead>\n",
       "    <tr style=\"text-align: right;\">\n",
       "      <th></th>\n",
       "      <th>PUBCHEM_SID</th>\n",
       "      <th>PUBCHEM_ACTIVITY_SCORE</th>\n",
       "    </tr>\n",
       "  </thead>\n",
       "  <tbody>\n",
       "    <tr>\n",
       "      <th>345419</th>\n",
       "      <td>87335589.0</td>\n",
       "      <td>0.0</td>\n",
       "    </tr>\n",
       "    <tr>\n",
       "      <th>362606</th>\n",
       "      <td>103050555.0</td>\n",
       "      <td>0.0</td>\n",
       "    </tr>\n",
       "    <tr>\n",
       "      <th>93244</th>\n",
       "      <td>17409466.0</td>\n",
       "      <td>0.0</td>\n",
       "    </tr>\n",
       "    <tr>\n",
       "      <th>308058</th>\n",
       "      <td>56315486.0</td>\n",
       "      <td>0.0</td>\n",
       "    </tr>\n",
       "    <tr>\n",
       "      <th>7386</th>\n",
       "      <td>851101.0</td>\n",
       "      <td>0.0</td>\n",
       "    </tr>\n",
       "  </tbody>\n",
       "</table>\n",
       "</div>"
      ],
      "text/plain": [
       "        PUBCHEM_SID  PUBCHEM_ACTIVITY_SCORE\n",
       "345419   87335589.0                     0.0\n",
       "362606  103050555.0                     0.0\n",
       "93244    17409466.0                     0.0\n",
       "308058   56315486.0                     0.0\n",
       "7386       851101.0                     0.0"
      ]
     },
     "execution_count": 8,
     "metadata": {},
     "output_type": "execute_result"
    }
   ],
   "source": [
    "smallDataset.head()"
   ]
  },
  {
   "cell_type": "code",
   "execution_count": 9,
   "metadata": {
    "collapsed": false
   },
   "outputs": [
    {
     "name": "stdout",
     "output_type": "stream",
     "text": [
      "Shape of small dataset is (1050, 2)\n"
     ]
    }
   ],
   "source": [
    "print(\"Shape of small dataset is\",smallDataset.shape)"
   ]
  },
  {
   "cell_type": "code",
   "execution_count": 10,
   "metadata": {
    "collapsed": true
   },
   "outputs": [],
   "source": [
    "# Convert floating point values to integers. \n",
    "smallDataset['PUBCHEM_SID'] = smallDataset['PUBCHEM_SID'].astype(np.int64)\n",
    "smallDataset['PUBCHEM_ACTIVITY_SCORE'] = smallDataset['PUBCHEM_ACTIVITY_SCORE'].astype(np.int64)"
   ]
  },
  {
   "cell_type": "code",
   "execution_count": 11,
   "metadata": {
    "collapsed": false
   },
   "outputs": [
    {
     "data": {
      "text/html": [
       "<div>\n",
       "<style scoped>\n",
       "    .dataframe tbody tr th:only-of-type {\n",
       "        vertical-align: middle;\n",
       "    }\n",
       "\n",
       "    .dataframe tbody tr th {\n",
       "        vertical-align: top;\n",
       "    }\n",
       "\n",
       "    .dataframe thead th {\n",
       "        text-align: right;\n",
       "    }\n",
       "</style>\n",
       "<table border=\"1\" class=\"dataframe\">\n",
       "  <thead>\n",
       "    <tr style=\"text-align: right;\">\n",
       "      <th></th>\n",
       "      <th>PUBCHEM_SID</th>\n",
       "      <th>PUBCHEM_ACTIVITY_SCORE</th>\n",
       "    </tr>\n",
       "  </thead>\n",
       "  <tbody>\n",
       "    <tr>\n",
       "      <th>345419</th>\n",
       "      <td>87335589</td>\n",
       "      <td>0</td>\n",
       "    </tr>\n",
       "    <tr>\n",
       "      <th>362606</th>\n",
       "      <td>103050555</td>\n",
       "      <td>0</td>\n",
       "    </tr>\n",
       "    <tr>\n",
       "      <th>93244</th>\n",
       "      <td>17409466</td>\n",
       "      <td>0</td>\n",
       "    </tr>\n",
       "    <tr>\n",
       "      <th>308058</th>\n",
       "      <td>56315486</td>\n",
       "      <td>0</td>\n",
       "    </tr>\n",
       "    <tr>\n",
       "      <th>7386</th>\n",
       "      <td>851101</td>\n",
       "      <td>0</td>\n",
       "    </tr>\n",
       "  </tbody>\n",
       "</table>\n",
       "</div>"
      ],
      "text/plain": [
       "        PUBCHEM_SID  PUBCHEM_ACTIVITY_SCORE\n",
       "345419     87335589                       0\n",
       "362606    103050555                       0\n",
       "93244      17409466                       0\n",
       "308058     56315486                       0\n",
       "7386         851101                       0"
      ]
     },
     "execution_count": 11,
     "metadata": {},
     "output_type": "execute_result"
    }
   ],
   "source": [
    "smallDataset.head()"
   ]
  },
  {
   "cell_type": "markdown",
   "metadata": {},
   "source": [
    "# Creating the descriptors Matrix "
   ]
  },
  {
   "cell_type": "code",
   "execution_count": 12,
   "metadata": {
    "collapsed": false
   },
   "outputs": [],
   "source": [
    "smallSmilesData = smilesData.loc[smilesData.molSID.isin(smallDataset.PUBCHEM_SID.values)]"
   ]
  },
  {
   "cell_type": "code",
   "execution_count": 13,
   "metadata": {
    "collapsed": false
   },
   "outputs": [
    {
     "data": {
      "text/html": [
       "<div>\n",
       "<style scoped>\n",
       "    .dataframe tbody tr th:only-of-type {\n",
       "        vertical-align: middle;\n",
       "    }\n",
       "\n",
       "    .dataframe tbody tr th {\n",
       "        vertical-align: top;\n",
       "    }\n",
       "\n",
       "    .dataframe thead th {\n",
       "        text-align: right;\n",
       "    }\n",
       "</style>\n",
       "<table border=\"1\" class=\"dataframe\">\n",
       "  <thead>\n",
       "    <tr style=\"text-align: right;\">\n",
       "      <th></th>\n",
       "      <th>molSID</th>\n",
       "      <th>chemStruc</th>\n",
       "    </tr>\n",
       "  </thead>\n",
       "  <tbody>\n",
       "    <tr>\n",
       "      <th>65</th>\n",
       "      <td>124898757</td>\n",
       "      <td>CCN(CC)CCCOC1=C(C=C2C(=C1)N=C(N=C2NC3CCN(CC3)C...</td>\n",
       "    </tr>\n",
       "    <tr>\n",
       "      <th>207</th>\n",
       "      <td>124897432</td>\n",
       "      <td>C1=CC(=CC=C1C=O)N(CCCl)CCCl</td>\n",
       "    </tr>\n",
       "    <tr>\n",
       "      <th>332</th>\n",
       "      <td>124897072</td>\n",
       "      <td>CN(C)C1=CC=C(C=C1)/C=C/2\\CCC3=CC=CC=C32</td>\n",
       "    </tr>\n",
       "    <tr>\n",
       "      <th>647</th>\n",
       "      <td>124896036</td>\n",
       "      <td>CC(C)(C)C1=CC=C(C=C1)C(=O)C[N+]2=CC=CC=C2Cl</td>\n",
       "    </tr>\n",
       "    <tr>\n",
       "      <th>876</th>\n",
       "      <td>124894670</td>\n",
       "      <td>COC1=CC=CC=C1/C=C/C2=NC3=CC=CC=C3C=C2</td>\n",
       "    </tr>\n",
       "  </tbody>\n",
       "</table>\n",
       "</div>"
      ],
      "text/plain": [
       "        molSID                                          chemStruc\n",
       "65   124898757  CCN(CC)CCCOC1=C(C=C2C(=C1)N=C(N=C2NC3CCN(CC3)C...\n",
       "207  124897432                        C1=CC(=CC=C1C=O)N(CCCl)CCCl\n",
       "332  124897072            CN(C)C1=CC=C(C=C1)/C=C/2\\CCC3=CC=CC=C32\n",
       "647  124896036        CC(C)(C)C1=CC=C(C=C1)C(=O)C[N+]2=CC=CC=C2Cl\n",
       "876  124894670              COC1=CC=CC=C1/C=C/C2=NC3=CC=CC=C3C=C2"
      ]
     },
     "execution_count": 13,
     "metadata": {},
     "output_type": "execute_result"
    }
   ],
   "source": [
    "smallSmilesData.head()"
   ]
  },
  {
   "cell_type": "code",
   "execution_count": 17,
   "metadata": {
    "collapsed": true
   },
   "outputs": [],
   "source": [
    "dM = pd.DataFrame(np.zeros([len(smallSmilesData),len(descList)]))\n",
    "dM.columns = descList\n",
    "dM.insert(loc=0, column=\"molSID\",value = smallSmilesData.molSID.values)\n",
    "dM.insert(loc=1, column=\"chemStr\",value = smallSmilesData.chemStruc.values)"
   ]
  },
  {
   "cell_type": "code",
   "execution_count": 24,
   "metadata": {
    "collapsed": false
   },
   "outputs": [],
   "source": [
    "chemStr = dM.chemStr.values\n",
    "molSID = dM.molSID.values\n"
   ]
  },
  {
   "cell_type": "markdown",
   "metadata": {},
   "source": [
    "# Multiprocessing module\n"
   ]
  },
  {
   "cell_type": "code",
   "execution_count": 25,
   "metadata": {
    "collapsed": true
   },
   "outputs": [],
   "source": [
    "def simpleCalcDesc(molSID):\n",
    "    chemStr = dM.chemStr.values[dM.molSID==molSID][0]\n",
    "    m= Chem.MolFromSmiles(chemStr)\n",
    "    for idx,val in enumerate(descList):        \n",
    "        tempDescVal = getattr(Descriptors,val)(m)    \n",
    "        dM.loc[dM.molSID == molSID, val] = tempDescVal\n",
    "    return dM        "
   ]
  },
  {
   "cell_type": "code",
   "execution_count": 34,
   "metadata": {
    "collapsed": false
   },
   "outputs": [],
   "source": [
    "def runParallelProcessing(nCores,void):\n",
    "    start = time.time()\n",
    "    pool = mp.Pool(nCores)\n",
    "    result = pool.map(simpleCalcDesc,molSID)\n",
    "\n",
    "    end = time.time()\n",
    "    pool.close()\n",
    "    pool.join()\n",
    "    print(\"time to complete: \", end-start, \" seconds\")\n",
    "    if(void==True):\n",
    "        return \n",
    "    \n",
    "    return result"
   ]
  },
  {
   "cell_type": "code",
   "execution_count": 32,
   "metadata": {
    "collapsed": false
   },
   "outputs": [
    {
     "name": "stdout",
     "output_type": "stream",
     "text": [
      "time to complete:  155.50537705421448\n"
     ]
    }
   ],
   "source": [
    "# Run multiprocessing module with 8 cores\n",
    "result = runParallelProcessing(8,False)"
   ]
  },
  {
   "cell_type": "code",
   "execution_count": 35,
   "metadata": {
    "collapsed": false
   },
   "outputs": [
    {
     "name": "stdout",
     "output_type": "stream",
     "text": [
      "time to complete:  158.8592791557312  seconds\n"
     ]
    }
   ],
   "source": [
    "# Run multiprocessing module with 6 cores\n",
    "runParallelProcessing(6,True)"
   ]
  },
  {
   "cell_type": "code",
   "execution_count": 36,
   "metadata": {
    "collapsed": false
   },
   "outputs": [
    {
     "name": "stdout",
     "output_type": "stream",
     "text": [
      "time to complete:  168.8393039703369  seconds\n"
     ]
    }
   ],
   "source": [
    "# Run multiprocessing module with 4 cores\n",
    "runParallelProcessing(4,True)"
   ]
  },
  {
   "cell_type": "code",
   "execution_count": 37,
   "metadata": {
    "collapsed": false
   },
   "outputs": [
    {
     "name": "stdout",
     "output_type": "stream",
     "text": [
      "time to complete:  255.0969340801239  seconds\n"
     ]
    }
   ],
   "source": [
    "# Run multiprocessing module with 2 cores\n",
    "runParallelProcessing(2,True)"
   ]
  },
  {
   "cell_type": "code",
   "execution_count": 38,
   "metadata": {
    "collapsed": false
   },
   "outputs": [
    {
     "name": "stdout",
     "output_type": "stream",
     "text": [
      "time to complete:  459.0300409793854  seconds\n"
     ]
    }
   ],
   "source": [
    "# Run multiprocessing module with 1 cores\n",
    "runParallelProcessing(1,True)"
   ]
  },
  {
   "cell_type": "markdown",
   "metadata": {},
   "source": [
    "# Reduce mapping output from parallel processing\n",
    "\n",
    "Because the tasks have been spread out over multiple cores the result that returns is in fragments from each core, thus we have to combine the fragments in the process of reducing. \n",
    "\n",
    "Each core has its own memory allocation and during the mapping process the memory is a snapshot of the variables. There are ways to implement memory sharing but I haven't been able to get that working, therefore I will have to slice the results matrix in the following way."
   ]
  },
  {
   "cell_type": "code",
   "execution_count": 29,
   "metadata": {
    "collapsed": false
   },
   "outputs": [],
   "source": [
    "descriptorMatrix = pd.DataFrame()\n",
    "for i in range(len(result)):\n",
    "    temp = pd.DataFrame(result[i].iloc[i]).T\n",
    "    descriptorMatrix = temp.append(descriptorMatrix)\n",
    "    \n",
    "descriptorMatrix = descriptorMatrix.sort_index()"
   ]
  },
  {
   "cell_type": "code",
   "execution_count": 30,
   "metadata": {
    "collapsed": false
   },
   "outputs": [
    {
     "data": {
      "text/html": [
       "<div>\n",
       "<style scoped>\n",
       "    .dataframe tbody tr th:only-of-type {\n",
       "        vertical-align: middle;\n",
       "    }\n",
       "\n",
       "    .dataframe tbody tr th {\n",
       "        vertical-align: top;\n",
       "    }\n",
       "\n",
       "    .dataframe thead th {\n",
       "        text-align: right;\n",
       "    }\n",
       "</style>\n",
       "<table border=\"1\" class=\"dataframe\">\n",
       "  <thead>\n",
       "    <tr style=\"text-align: right;\">\n",
       "      <th></th>\n",
       "      <th>molSID</th>\n",
       "      <th>chemStr</th>\n",
       "      <th>MinEStateIndex</th>\n",
       "      <th>ExactMolWt</th>\n",
       "      <th>MinPartialCharge</th>\n",
       "      <th>MaxEStateIndex</th>\n",
       "      <th>HeavyAtomMolWt</th>\n",
       "      <th>FpDensityMorgan1</th>\n",
       "      <th>qed</th>\n",
       "      <th>FpDensityMorgan2</th>\n",
       "      <th>...</th>\n",
       "      <th>fr_sulfide</th>\n",
       "      <th>fr_sulfonamd</th>\n",
       "      <th>fr_sulfone</th>\n",
       "      <th>fr_term_acetylene</th>\n",
       "      <th>fr_tetrazole</th>\n",
       "      <th>fr_thiazole</th>\n",
       "      <th>fr_thiocyan</th>\n",
       "      <th>fr_thiophene</th>\n",
       "      <th>fr_unbrch_alkane</th>\n",
       "      <th>fr_urea</th>\n",
       "    </tr>\n",
       "  </thead>\n",
       "  <tbody>\n",
       "    <tr>\n",
       "      <th>0</th>\n",
       "      <td>124898757</td>\n",
       "      <td>CCN(CC)CCCOC1=C(C=C2C(=C1)N=C(N=C2NC3CCN(CC3)C...</td>\n",
       "      <td>0.402237</td>\n",
       "      <td>513.379</td>\n",
       "      <td>-0.492842</td>\n",
       "      <td>6.23833</td>\n",
       "      <td>466.355</td>\n",
       "      <td>0.945946</td>\n",
       "      <td>0.455413</td>\n",
       "      <td>1.7027</td>\n",
       "      <td>...</td>\n",
       "      <td>0</td>\n",
       "      <td>0</td>\n",
       "      <td>0</td>\n",
       "      <td>0</td>\n",
       "      <td>0</td>\n",
       "      <td>0</td>\n",
       "      <td>0</td>\n",
       "      <td>0</td>\n",
       "      <td>1</td>\n",
       "      <td>0</td>\n",
       "    </tr>\n",
       "    <tr>\n",
       "      <th>1</th>\n",
       "      <td>124897432</td>\n",
       "      <td>C1=CC(=CC=C1C=O)N(CCCl)CCCl</td>\n",
       "      <td>0.561826</td>\n",
       "      <td>245.037</td>\n",
       "      <td>-0.369144</td>\n",
       "      <td>10.4832</td>\n",
       "      <td>233.033</td>\n",
       "      <td>1.06667</td>\n",
       "      <td>0.567846</td>\n",
       "      <td>1.6</td>\n",
       "      <td>...</td>\n",
       "      <td>0</td>\n",
       "      <td>0</td>\n",
       "      <td>0</td>\n",
       "      <td>0</td>\n",
       "      <td>0</td>\n",
       "      <td>0</td>\n",
       "      <td>0</td>\n",
       "      <td>0</td>\n",
       "      <td>0</td>\n",
       "      <td>0</td>\n",
       "    </tr>\n",
       "    <tr>\n",
       "      <th>2</th>\n",
       "      <td>124897072</td>\n",
       "      <td>CN(C)C1=CC=C(C=C1)/C=C/2\\CCC3=CC=CC=C32</td>\n",
       "      <td>1.16149</td>\n",
       "      <td>249.152</td>\n",
       "      <td>-0.377661</td>\n",
       "      <td>2.32468</td>\n",
       "      <td>230.205</td>\n",
       "      <td>0.894737</td>\n",
       "      <td>0.76918</td>\n",
       "      <td>1.63158</td>\n",
       "      <td>...</td>\n",
       "      <td>0</td>\n",
       "      <td>0</td>\n",
       "      <td>0</td>\n",
       "      <td>0</td>\n",
       "      <td>0</td>\n",
       "      <td>0</td>\n",
       "      <td>0</td>\n",
       "      <td>0</td>\n",
       "      <td>0</td>\n",
       "      <td>0</td>\n",
       "    </tr>\n",
       "    <tr>\n",
       "      <th>3</th>\n",
       "      <td>124896036</td>\n",
       "      <td>CC(C)(C)C1=CC=C(C=C1)C(=O)C[N+]2=CC=CC=C2Cl</td>\n",
       "      <td>0.0588511</td>\n",
       "      <td>288.115</td>\n",
       "      <td>-0.28699</td>\n",
       "      <td>12.2478</td>\n",
       "      <td>269.646</td>\n",
       "      <td>1.1</td>\n",
       "      <td>0.477902</td>\n",
       "      <td>1.75</td>\n",
       "      <td>...</td>\n",
       "      <td>0</td>\n",
       "      <td>0</td>\n",
       "      <td>0</td>\n",
       "      <td>0</td>\n",
       "      <td>0</td>\n",
       "      <td>0</td>\n",
       "      <td>0</td>\n",
       "      <td>0</td>\n",
       "      <td>0</td>\n",
       "      <td>0</td>\n",
       "    </tr>\n",
       "    <tr>\n",
       "      <th>4</th>\n",
       "      <td>124894670</td>\n",
       "      <td>COC1=CC=CC=C1/C=C/C2=NC3=CC=CC=C3C=C2</td>\n",
       "      <td>0.865314</td>\n",
       "      <td>261.115</td>\n",
       "      <td>-0.496137</td>\n",
       "      <td>5.33233</td>\n",
       "      <td>246.204</td>\n",
       "      <td>0.85</td>\n",
       "      <td>0.696198</td>\n",
       "      <td>1.65</td>\n",
       "      <td>...</td>\n",
       "      <td>0</td>\n",
       "      <td>0</td>\n",
       "      <td>0</td>\n",
       "      <td>0</td>\n",
       "      <td>0</td>\n",
       "      <td>0</td>\n",
       "      <td>0</td>\n",
       "      <td>0</td>\n",
       "      <td>0</td>\n",
       "      <td>0</td>\n",
       "    </tr>\n",
       "  </tbody>\n",
       "</table>\n",
       "<p>5 rows × 202 columns</p>\n",
       "</div>"
      ],
      "text/plain": [
       "      molSID                                            chemStr  \\\n",
       "0  124898757  CCN(CC)CCCOC1=C(C=C2C(=C1)N=C(N=C2NC3CCN(CC3)C...   \n",
       "1  124897432                        C1=CC(=CC=C1C=O)N(CCCl)CCCl   \n",
       "2  124897072            CN(C)C1=CC=C(C=C1)/C=C/2\\CCC3=CC=CC=C32   \n",
       "3  124896036        CC(C)(C)C1=CC=C(C=C1)C(=O)C[N+]2=CC=CC=C2Cl   \n",
       "4  124894670              COC1=CC=CC=C1/C=C/C2=NC3=CC=CC=C3C=C2   \n",
       "\n",
       "  MinEStateIndex ExactMolWt MinPartialCharge MaxEStateIndex HeavyAtomMolWt  \\\n",
       "0       0.402237    513.379        -0.492842        6.23833        466.355   \n",
       "1       0.561826    245.037        -0.369144        10.4832        233.033   \n",
       "2        1.16149    249.152        -0.377661        2.32468        230.205   \n",
       "3      0.0588511    288.115         -0.28699        12.2478        269.646   \n",
       "4       0.865314    261.115        -0.496137        5.33233        246.204   \n",
       "\n",
       "  FpDensityMorgan1       qed FpDensityMorgan2   ...   fr_sulfide fr_sulfonamd  \\\n",
       "0         0.945946  0.455413           1.7027   ...            0            0   \n",
       "1          1.06667  0.567846              1.6   ...            0            0   \n",
       "2         0.894737   0.76918          1.63158   ...            0            0   \n",
       "3              1.1  0.477902             1.75   ...            0            0   \n",
       "4             0.85  0.696198             1.65   ...            0            0   \n",
       "\n",
       "  fr_sulfone fr_term_acetylene fr_tetrazole fr_thiazole fr_thiocyan  \\\n",
       "0          0                 0            0           0           0   \n",
       "1          0                 0            0           0           0   \n",
       "2          0                 0            0           0           0   \n",
       "3          0                 0            0           0           0   \n",
       "4          0                 0            0           0           0   \n",
       "\n",
       "  fr_thiophene fr_unbrch_alkane fr_urea  \n",
       "0            0                1       0  \n",
       "1            0                0       0  \n",
       "2            0                0       0  \n",
       "3            0                0       0  \n",
       "4            0                0       0  \n",
       "\n",
       "[5 rows x 202 columns]"
      ]
     },
     "execution_count": 30,
     "metadata": {},
     "output_type": "execute_result"
    }
   ],
   "source": [
    "descriptorMatrix.head()"
   ]
  },
  {
   "cell_type": "markdown",
   "metadata": {
    "collapsed": true
   },
   "source": [
    "# Trying things"
   ]
  },
  {
   "cell_type": "code",
   "execution_count": null,
   "metadata": {
    "collapsed": false
   },
   "outputs": [],
   "source": [
    "output = mp.Queue()\n",
    "mp.cpu_count()"
   ]
  },
  {
   "cell_type": "code",
   "execution_count": null,
   "metadata": {
    "collapsed": false
   },
   "outputs": [],
   "source": [
    "def calculateDescriptor(descriptor, chemStr,molSID):\n",
    "    for idx,val in enumerate(molSID):\n",
    "        m= Chem.MolFromSmiles(chemStr[idx])\n",
    "        descVal = Descriptors.MaxAbsPartialCharge(m)\n",
    "        dM.loc[dM.molSID == val, descriptor] = descVal\n"
   ]
  },
  {
   "cell_type": "code",
   "execution_count": null,
   "metadata": {
    "collapsed": false
   },
   "outputs": [],
   "source": [
    "dM.loc[dM.molSID == 124897320, 'MinAbsEStateIndex']"
   ]
  },
  {
   "cell_type": "code",
   "execution_count": null,
   "metadata": {
    "collapsed": false
   },
   "outputs": [],
   "source": [
    "simpleCalcDesc('MinAbsEStateIndex','CSC1=CC=C(C=C1)/C=C/C2=CC=NC3=CC=CC=C23',124897320)"
   ]
  },
  {
   "cell_type": "code",
   "execution_count": null,
   "metadata": {
    "collapsed": false
   },
   "outputs": [],
   "source": [
    "dM.head()"
   ]
  },
  {
   "cell_type": "code",
   "execution_count": null,
   "metadata": {
    "collapsed": false
   },
   "outputs": [],
   "source": [
    "dM.loc[dM.molSID == 124897571, 'NumRadicalElectrons']= 2"
   ]
  },
  {
   "cell_type": "code",
   "execution_count": null,
   "metadata": {
    "collapsed": true
   },
   "outputs": [],
   "source": [
    "def parallelize_dataframe(df, func):\n",
    "    df_split = np.array_split(df, num_partitions)\n",
    "    pool = Pool(num_cores)\n",
    "    df = pd.concat(pool.map(func, df_split))\n",
    "    pool.close()\n",
    "    pool.join()\n",
    "    return df"
   ]
  },
  {
   "cell_type": "code",
   "execution_count": null,
   "metadata": {
    "collapsed": false
   },
   "outputs": [],
   "source": [
    "result = parallelize_dataframe(exDescM,calculateDescriptors)"
   ]
  },
  {
   "cell_type": "code",
   "execution_count": null,
   "metadata": {
    "collapsed": false
   },
   "outputs": [],
   "source": [
    "for idx,val in enumerate(smallSmilesData.chemStruc.values):\n",
    "    m = Chem.MolFromSmiles(val)\n",
    "    descriptor = descList[idx]\n",
    "    tempDescVal = getattr(Descriptors,descriptor)(m)\n",
    "    print(tempDescVal)\n",
    "    break"
   ]
  },
  {
   "cell_type": "code",
   "execution_count": null,
   "metadata": {
    "collapsed": false
   },
   "outputs": [],
   "source": [
    "descriptorsMatrix = pd.DataFrame(np.zeros([len(smallSmilesData),len(descList)]))\n",
    "descriptorsMatrix.columns = descList\n",
    "descriptorsMatrix.insert(loc=0, column=\"molSID\",value = smallSmilesData.molSID.values)"
   ]
  },
  {
   "cell_type": "markdown",
   "metadata": {},
   "source": [
    "# Mini dataframe\n"
   ]
  },
  {
   "cell_type": "code",
   "execution_count": null,
   "metadata": {
    "collapsed": false
   },
   "outputs": [],
   "source": [
    "extraSmallData = smallSmilesData[:5]"
   ]
  },
  {
   "cell_type": "code",
   "execution_count": null,
   "metadata": {
    "collapsed": false
   },
   "outputs": [],
   "source": [
    "exDescM = pd.DataFrame(np.zeros([len(extraSmallData),len(descList)]))\n",
    "exDescM.columns = descList\n",
    "exDescM.insert(loc=0, column=\"molSID\",value = extraSmallData.molSID.values)\n",
    "exDescM.insert(loc=1, column=\"chemStr\",value = extraSmallData.chemStruc.values)"
   ]
  },
  {
   "cell_type": "code",
   "execution_count": null,
   "metadata": {
    "collapsed": false,
    "scrolled": true
   },
   "outputs": [],
   "source": [
    "exDescM"
   ]
  },
  {
   "cell_type": "markdown",
   "metadata": {},
   "source": [
    "# mini end\n",
    "\n",
    "# method for calculating descriptors for full matrix"
   ]
  },
  {
   "cell_type": "code",
   "execution_count": null,
   "metadata": {
    "collapsed": false
   },
   "outputs": [],
   "source": [
    "for i, mol in enumerate(extraSmallData.molSID):\n",
    "    m= Chem.MolFromSmiles(extraSmallData.chemStruc.values[i])\n",
    "    for idx, val in enumerate(descList):\n",
    "        descriptor = descList[idx]\n",
    "        tempDescVal = getattr(Descriptors,descriptor)(m)\n",
    "        exDescM.loc[exDescM.molSID == mol,descriptor] = tempDescVal \n",
    "        break\n",
    "    break"
   ]
  },
  {
   "cell_type": "code",
   "execution_count": null,
   "metadata": {
    "collapsed": true
   },
   "outputs": [],
   "source": [
    "def calculateDescriptors(descriptorsMatrix):\n",
    "    descList = list(descriptorsMatrix.columns.values)\n",
    "    descList.remove('molSID')\n",
    "    descList.remove('chemStruc')\n",
    "    chemStruc = exDescM.chemStruc.values\n",
    "    for i, mol in enumerate(descriptorsMatrix.molSID):\n",
    "        m= Chem.MolFromSmiles(chemStruc[i])\n",
    "        for idx, val in enumerate(descList): \n",
    "            descriptor = descList[idx]\n",
    "            tempDescVal = getattr(Descriptors,descriptor)(m)\n",
    "            descriptorsMatrix.loc[descriptorsMatrix.molSID == mol , descriptor] = tempDescVal "
   ]
  }
 ],
 "metadata": {
  "anaconda-cloud": {},
  "kernelspec": {
   "display_name": "Python [conda env:anaconda3]",
   "language": "python",
   "name": "conda-env-anaconda3-py"
  },
  "language_info": {
   "codemirror_mode": {
    "name": "ipython",
    "version": 3
   },
   "file_extension": ".py",
   "mimetype": "text/x-python",
   "name": "python",
   "nbconvert_exporter": "python",
   "pygments_lexer": "ipython3",
   "version": "3.5.2"
  }
 },
 "nbformat": 4,
 "nbformat_minor": 1
}
